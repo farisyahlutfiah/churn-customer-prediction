{
  "cells": [
    {
      "cell_type": "markdown",
      "source": [
        "# **Business Understanding**"
      ],
      "metadata": {
        "id": "E4SmWS_tl3Mg"
      }
    },
    {
      "cell_type": "markdown",
      "source": [
        "**Project Description**\n",
        "\n",
        "Final Project ini memiliki tujuan yaitu untuk memprediksi apakah customer akan menggunakan layanan lagi atau tidak pada suatu perusahaan e-commerce. Proyek ini akan menghasilkan model yang penting untuk dapat mengidentifikasi customer yang berhenti menggunakan layanan sehingga dapat mengurangi resiko bisnis dan membantu dalam pembuat keputusan menyusun strategi penjualan.\n",
        "\n",
        "**Manfaat**\n",
        "\n",
        "- Meningkatkan keputusan strategi penjualan dengan bantuan model prediksi, menghindari kerugian dari hilangnya loyalitas customer.\n",
        "- Efisiensi operasional dengan memanfaatkan model prediksi, sehingga berfokus pada customer yang tepat.\n",
        "\n",
        "\n",
        "**Tantangan**\n",
        "\n",
        "- Ukuran data yang besar (4.33 Gb data uncompressed)\n",
        "- Merge dataset\n",
        "- Dealing dengan missing data\n",
        "- Imbalanced datasets"
      ],
      "metadata": {
        "id": "niYa889Ul-kO"
      }
    },
    {
      "cell_type": "markdown",
      "source": [
        "**Dataset**\n",
        "\n",
        "Terdapat 3 dataset yang digunakan untuk mengerjakan proyek.\n",
        "- **customer.csv**\n",
        "\n",
        "  File ini berisi data dari pelanggan seperti nama, email, data demografi, hingga device yang dimiliki.\n",
        "\n",
        "- **product.csv**\n",
        "\n",
        "  Dataset product berisi informasi tentang produk yang dijual, seperti nama, kategori, harga, dan warna.\n",
        "\n",
        "- **transactions.csv**\n",
        "\n",
        "  File ini memuat data transaksi yang dilakukan pelanggan seperti produk yang dibeli, total harga, tujuan alamat, hingga metode pembayaran. Dataset ini memberikan informasi tentang riwayat transaksi dari pelanggan.\n",
        "\n",
        "- **click_stream**\n",
        "\n",
        "  File ini berisi data kumpulan data yang berisi informasi tentang halaman web yang dikunjungi oleh pelanggan seperti, waktu, traffic yang digunakan dan aktivitas yang dilakukan"
      ],
      "metadata": {
        "id": "rmFDgBTgn1Aj"
      }
    },
    {
      "cell_type": "markdown",
      "source": [
        "# **Exploratory Data Analysis (EDA)**"
      ],
      "metadata": {
        "id": "bprbPdnxpJQH"
      }
    },
    {
      "cell_type": "markdown",
      "source": [
        "## Import Package"
      ],
      "metadata": {
        "id": "kCQMOWQDpK-3"
      }
    },
    {
      "cell_type": "code",
      "execution_count": null,
      "metadata": {
        "id": "7f49b166"
      },
      "outputs": [],
      "source": [
        "import pandas as pd\n",
        "import numpy as np\n",
        "import seaborn as sns\n",
        "import matplotlib.pyplot as plt\n",
        "from datetime import datetime\n",
        "import json"
      ]
    },
    {
      "cell_type": "markdown",
      "source": [
        "##Data Collection (Load Data)"
      ],
      "metadata": {
        "id": "4QplTISopbu_"
      }
    },
    {
      "cell_type": "code",
      "execution_count": null,
      "metadata": {
        "colab": {
          "base_uri": "https://localhost:8080/"
        },
        "id": "yAb45OEqydZ2",
        "outputId": "97846059-ac37-4a67-dd56-076ff5a4b6cb"
      },
      "outputs": [
        {
          "output_type": "stream",
          "name": "stdout",
          "text": [
            "Drive already mounted at /content/drive; to attempt to forcibly remount, call drive.mount(\"/content/drive\", force_remount=True).\n"
          ]
        }
      ],
      "source": [
        "from google.colab import drive\n",
        "drive.mount('/content/drive')"
      ]
    },
    {
      "cell_type": "code",
      "execution_count": null,
      "metadata": {
        "colab": {
          "base_uri": "https://localhost:8080/"
        },
        "id": "8eky3MMuyp8R",
        "outputId": "18596299-5f54-4a2c-b7d7-41584fdbcae8"
      },
      "outputs": [
        {
          "output_type": "stream",
          "name": "stderr",
          "text": [
            "<ipython-input-3-7503e4481794>:2: FutureWarning: The error_bad_lines argument has been deprecated and will be removed in a future version. Use on_bad_lines in the future.\n",
            "\n",
            "\n",
            "  product = pd.read_csv('/content/drive/MyDrive/dataset/product.csv',error_bad_lines=False)\n",
            "Skipping line 6044: expected 10 fields, saw 11\n",
            "Skipping line 6569: expected 10 fields, saw 11\n",
            "Skipping line 7399: expected 10 fields, saw 11\n",
            "Skipping line 7939: expected 10 fields, saw 11\n",
            "Skipping line 9026: expected 10 fields, saw 11\n",
            "Skipping line 10264: expected 10 fields, saw 11\n",
            "Skipping line 10427: expected 10 fields, saw 11\n",
            "Skipping line 10905: expected 10 fields, saw 11\n",
            "Skipping line 11373: expected 10 fields, saw 11\n",
            "Skipping line 11945: expected 10 fields, saw 11\n",
            "Skipping line 14112: expected 10 fields, saw 11\n",
            "Skipping line 14532: expected 10 fields, saw 11\n",
            "Skipping line 15076: expected 10 fields, saw 12\n",
            "Skipping line 29906: expected 10 fields, saw 11\n",
            "Skipping line 31625: expected 10 fields, saw 11\n",
            "Skipping line 33020: expected 10 fields, saw 11\n",
            "Skipping line 35748: expected 10 fields, saw 11\n",
            "Skipping line 35962: expected 10 fields, saw 11\n",
            "Skipping line 37770: expected 10 fields, saw 11\n",
            "Skipping line 38105: expected 10 fields, saw 11\n",
            "Skipping line 38275: expected 10 fields, saw 11\n",
            "Skipping line 38404: expected 10 fields, saw 12\n",
            "\n"
          ]
        }
      ],
      "source": [
        "customer = pd.read_csv('/content/drive/MyDrive/dataset/customer.csv')\n",
        "product = pd.read_csv('/content/drive/MyDrive/dataset/product.csv',error_bad_lines=False)\n",
        "transactions = pd.read_csv('/content/drive/MyDrive/dataset/transactions.csv')\n",
        "stream = pd.read_csv('/content/drive/MyDrive/dataset/click_stream.csv')"
      ]
    },
    {
      "cell_type": "markdown",
      "source": [
        "##Data Preparation"
      ],
      "metadata": {
        "id": "DhEi9-ixpq_4"
      }
    },
    {
      "cell_type": "code",
      "source": [
        "customer.info()"
      ],
      "metadata": {
        "colab": {
          "base_uri": "https://localhost:8080/"
        },
        "id": "I9C6oDFRWTXt",
        "outputId": "64126688-d7f3-42dd-e5bb-494df0508838"
      },
      "execution_count": null,
      "outputs": [
        {
          "output_type": "stream",
          "name": "stdout",
          "text": [
            "<class 'pandas.core.frame.DataFrame'>\n",
            "RangeIndex: 100000 entries, 0 to 99999\n",
            "Data columns (total 15 columns):\n",
            " #   Column              Non-Null Count   Dtype  \n",
            "---  ------              --------------   -----  \n",
            " 0   customer_id         100000 non-null  int64  \n",
            " 1   first_name          100000 non-null  object \n",
            " 2   last_name           100000 non-null  object \n",
            " 3   username            100000 non-null  object \n",
            " 4   email               100000 non-null  object \n",
            " 5   gender              100000 non-null  object \n",
            " 6   birthdate           100000 non-null  object \n",
            " 7   device_type         100000 non-null  object \n",
            " 8   device_id           100000 non-null  object \n",
            " 9   device_version      100000 non-null  object \n",
            " 10  home_location_lat   100000 non-null  float64\n",
            " 11  home_location_long  100000 non-null  float64\n",
            " 12  home_location       100000 non-null  object \n",
            " 13  home_country        100000 non-null  object \n",
            " 14  first_join_date     100000 non-null  object \n",
            "dtypes: float64(2), int64(1), object(12)\n",
            "memory usage: 11.4+ MB\n"
          ]
        }
      ]
    },
    {
      "cell_type": "code",
      "source": [
        "product.info()"
      ],
      "metadata": {
        "colab": {
          "base_uri": "https://localhost:8080/"
        },
        "id": "LtgvmTZqWdB4",
        "outputId": "672a9354-83a1-4744-a8a1-0b018b97b770"
      },
      "execution_count": null,
      "outputs": [
        {
          "output_type": "stream",
          "name": "stdout",
          "text": [
            "<class 'pandas.core.frame.DataFrame'>\n",
            "RangeIndex: 44424 entries, 0 to 44423\n",
            "Data columns (total 10 columns):\n",
            " #   Column              Non-Null Count  Dtype  \n",
            "---  ------              --------------  -----  \n",
            " 0   id                  44424 non-null  int64  \n",
            " 1   gender              44424 non-null  object \n",
            " 2   masterCategory      44424 non-null  object \n",
            " 3   subCategory         44424 non-null  object \n",
            " 4   articleType         44424 non-null  object \n",
            " 5   baseColour          44409 non-null  object \n",
            " 6   season              44403 non-null  object \n",
            " 7   year                44423 non-null  float64\n",
            " 8   usage               44107 non-null  object \n",
            " 9   productDisplayName  44417 non-null  object \n",
            "dtypes: float64(1), int64(1), object(8)\n",
            "memory usage: 3.4+ MB\n"
          ]
        }
      ]
    },
    {
      "cell_type": "code",
      "source": [
        "transactions.info()"
      ],
      "metadata": {
        "colab": {
          "base_uri": "https://localhost:8080/"
        },
        "id": "PJakkrHDWgrz",
        "outputId": "88318f87-7031-4f75-a22d-8c62f8d35740"
      },
      "execution_count": null,
      "outputs": [
        {
          "output_type": "stream",
          "name": "stdout",
          "text": [
            "<class 'pandas.core.frame.DataFrame'>\n",
            "RangeIndex: 852584 entries, 0 to 852583\n",
            "Data columns (total 14 columns):\n",
            " #   Column                  Non-Null Count   Dtype  \n",
            "---  ------                  --------------   -----  \n",
            " 0   created_at              852584 non-null  object \n",
            " 1   customer_id             852584 non-null  int64  \n",
            " 2   booking_id              852584 non-null  object \n",
            " 3   session_id              852584 non-null  object \n",
            " 4   product_metadata        852584 non-null  object \n",
            " 5   payment_method          852584 non-null  object \n",
            " 6   payment_status          852584 non-null  object \n",
            " 7   promo_amount            852584 non-null  int64  \n",
            " 8   promo_code              326536 non-null  object \n",
            " 9   shipment_fee            852584 non-null  int64  \n",
            " 10  shipment_date_limit     852584 non-null  object \n",
            " 11  shipment_location_lat   852584 non-null  float64\n",
            " 12  shipment_location_long  852584 non-null  float64\n",
            " 13  total_amount            852584 non-null  int64  \n",
            "dtypes: float64(2), int64(4), object(8)\n",
            "memory usage: 91.1+ MB\n"
          ]
        }
      ]
    },
    {
      "cell_type": "code",
      "source": [
        "stream.info()"
      ],
      "metadata": {
        "colab": {
          "base_uri": "https://localhost:8080/"
        },
        "id": "t-IrNEXgWnZc",
        "outputId": "4fecfd0f-3a74-4d3b-9193-f87841145429"
      },
      "execution_count": null,
      "outputs": [
        {
          "output_type": "stream",
          "name": "stdout",
          "text": [
            "<class 'pandas.core.frame.DataFrame'>\n",
            "RangeIndex: 12833602 entries, 0 to 12833601\n",
            "Data columns (total 6 columns):\n",
            " #   Column          Dtype \n",
            "---  ------          ----- \n",
            " 0   session_id      object\n",
            " 1   event_name      object\n",
            " 2   event_time      object\n",
            " 3   event_id        object\n",
            " 4   traffic_source  object\n",
            " 5   event_metadata  object\n",
            "dtypes: object(6)\n",
            "memory usage: 587.5+ MB\n"
          ]
        }
      ]
    },
    {
      "cell_type": "markdown",
      "source": [
        "###Merge Datasets"
      ],
      "metadata": {
        "id": "wcJSvVrVptnr"
      }
    },
    {
      "cell_type": "code",
      "execution_count": null,
      "metadata": {
        "id": "cdvxTmQQxJ-c"
      },
      "outputs": [],
      "source": [
        "# Melakukan merge antara transactions - customer - click_stream dengan left join\n",
        "df = (transactions.merge(customer, how='left', on='customer_id')).merge(stream, how='left', on='session_id')"
      ]
    },
    {
      "cell_type": "code",
      "execution_count": null,
      "metadata": {
        "id": "SM6_Wj9mIFmT"
      },
      "outputs": [],
      "source": [
        "# Mengganti kutip tunggal dengan kutip ganda\n",
        "df['product_metadata'] = df['product_metadata'].str.replace(\"'\", '\"')"
      ]
    },
    {
      "cell_type": "code",
      "execution_count": null,
      "metadata": {
        "id": "_P0iMyq8CGcw"
      },
      "outputs": [],
      "source": [
        "# Apply json pada kolom product_metadata\n",
        "df['product_metadata'] = df['product_metadata'].apply(json.loads)"
      ]
    },
    {
      "cell_type": "code",
      "execution_count": null,
      "metadata": {
        "id": "tp0S9LIBYOt_"
      },
      "outputs": [],
      "source": [
        "# Extrack product metadata\n",
        "df['product_id'] = df['product_metadata'].apply(lambda x: [item['product_id'] for item in x])\n",
        "df['quantity'] = df['product_metadata'].apply(lambda x: [item['quantity'] for item in x])\n",
        "df['item_price'] = df['product_metadata'].apply(lambda x: [item['item_price'] for item in x])\n",
        "\n",
        "#drop product_metadata\n",
        "df.drop(columns='product_metadata', inplace=True)"
      ]
    },
    {
      "cell_type": "code",
      "execution_count": null,
      "metadata": {
        "id": "rGxTOJukxVrn"
      },
      "outputs": [],
      "source": [
        "# Extrack event metadata untuk search keyword\n",
        "df['search_keywords'] = df['event_metadata'].apply(lambda x: json.loads(x.replace(\"'\", \"\\\"\")).get('search_keywords') if isinstance(x, str) and 'search_keywords' in json.loads(x.replace(\"'\", \"\\\"\")) else np.nan)\n",
        "\n",
        "#drop product_metadata\n",
        "df.drop(columns='event_metadata', inplace=True)"
      ]
    },
    {
      "cell_type": "code",
      "execution_count": null,
      "metadata": {
        "id": "mtrTon51HE85"
      },
      "outputs": [],
      "source": [
        "#Explode kolom yang berisi list menjadi baris baru\n",
        "df = df.explode(['product_id', 'quantity', 'item_price'], ignore_index=True)"
      ]
    },
    {
      "cell_type": "code",
      "execution_count": null,
      "metadata": {
        "id": "rGNmRaC-UY4n"
      },
      "outputs": [],
      "source": [
        "# Melakukan merge antara df dan product dengan left join\n",
        "data = df.merge(product, left_on='product_id', right_on='id', how='left')"
      ]
    },
    {
      "cell_type": "code",
      "execution_count": null,
      "metadata": {
        "colab": {
          "base_uri": "https://localhost:8080/",
          "height": 424
        },
        "id": "RLuxXGQuzwg8",
        "outputId": "d8b428ba-5dc3-4101-aae7-ceb4830ac05f"
      },
      "outputs": [
        {
          "output_type": "execute_result",
          "data": {
            "text/plain": [
              "                           created_at  customer_id  \\\n",
              "0         2018-07-29T15:22:01.458193Z         5868   \n",
              "1         2018-07-29T15:22:01.458193Z         5868   \n",
              "2         2018-07-29T15:22:01.458193Z         5868   \n",
              "3         2018-07-29T15:22:01.458193Z         5868   \n",
              "4         2018-07-29T15:22:01.458193Z         5868   \n",
              "...                               ...          ...   \n",
              "20759559  2019-12-19T12:47:14.701215Z        58180   \n",
              "20759560  2019-12-19T12:47:14.701215Z        58180   \n",
              "20759561  2019-12-19T12:47:14.701215Z        58180   \n",
              "20759562  2019-12-19T12:47:14.701215Z        58180   \n",
              "20759563  2019-12-19T12:47:14.701215Z        58180   \n",
              "\n",
              "                                    booking_id  \\\n",
              "0         186e2bee-0637-4710-8981-50c2d737bc42   \n",
              "1         186e2bee-0637-4710-8981-50c2d737bc42   \n",
              "2         186e2bee-0637-4710-8981-50c2d737bc42   \n",
              "3         186e2bee-0637-4710-8981-50c2d737bc42   \n",
              "4         186e2bee-0637-4710-8981-50c2d737bc42   \n",
              "...                                        ...   \n",
              "20759559  b242e188-5f94-4448-a038-c5865842374b   \n",
              "20759560  b242e188-5f94-4448-a038-c5865842374b   \n",
              "20759561  b242e188-5f94-4448-a038-c5865842374b   \n",
              "20759562  b242e188-5f94-4448-a038-c5865842374b   \n",
              "20759563  b242e188-5f94-4448-a038-c5865842374b   \n",
              "\n",
              "                                    session_id payment_method payment_status  \\\n",
              "0         3abaa6ce-e320-4e51-9469-d9f3fa328e86     Debit Card        Success   \n",
              "1         3abaa6ce-e320-4e51-9469-d9f3fa328e86     Debit Card        Success   \n",
              "2         3abaa6ce-e320-4e51-9469-d9f3fa328e86     Debit Card        Success   \n",
              "3         3abaa6ce-e320-4e51-9469-d9f3fa328e86     Debit Card        Success   \n",
              "4         3abaa6ce-e320-4e51-9469-d9f3fa328e86     Debit Card        Success   \n",
              "...                                        ...            ...            ...   \n",
              "20759559  5e3183df-198b-40e0-b861-27ef694a832a          Gopay        Success   \n",
              "20759560  5e3183df-198b-40e0-b861-27ef694a832a          Gopay        Success   \n",
              "20759561  5e3183df-198b-40e0-b861-27ef694a832a          Gopay        Success   \n",
              "20759562  5e3183df-198b-40e0-b861-27ef694a832a          Gopay        Success   \n",
              "20759563  5e3183df-198b-40e0-b861-27ef694a832a          Gopay        Success   \n",
              "\n",
              "          promo_amount   promo_code  shipment_fee  \\\n",
              "0                 1415  WEEKENDSERU         10000   \n",
              "1                 1415  WEEKENDSERU         10000   \n",
              "2                 1415  WEEKENDSERU         10000   \n",
              "3                 1415  WEEKENDSERU         10000   \n",
              "4                 1415  WEEKENDSERU         10000   \n",
              "...                ...          ...           ...   \n",
              "20759559          4724      BUYMORE         10000   \n",
              "20759560          4724      BUYMORE         10000   \n",
              "20759561          4724      BUYMORE         10000   \n",
              "20759562          4724      BUYMORE         10000   \n",
              "20759563          4724      BUYMORE         10000   \n",
              "\n",
              "                  shipment_date_limit  ...       id  gender_y  masterCategory  \\\n",
              "0         2018-08-03T05:07:24.812676Z  ...  54728.0       Men        Footwear   \n",
              "1         2018-08-03T05:07:24.812676Z  ...  54728.0       Men        Footwear   \n",
              "2         2018-08-03T05:07:24.812676Z  ...  54728.0       Men        Footwear   \n",
              "3         2018-08-03T05:07:24.812676Z  ...  54728.0       Men        Footwear   \n",
              "4         2018-08-03T05:07:24.812676Z  ...  54728.0       Men        Footwear   \n",
              "...                               ...  ...      ...       ...             ...   \n",
              "20759559  2019-12-23T06:02:05.828334Z  ...  47433.0     Women     Accessories   \n",
              "20759560  2019-12-23T06:02:05.828334Z  ...  47433.0     Women     Accessories   \n",
              "20759561  2019-12-23T06:02:05.828334Z  ...  47433.0     Women     Accessories   \n",
              "20759562  2019-12-23T06:02:05.828334Z  ...  47433.0     Women     Accessories   \n",
              "20759563  2019-12-23T06:02:05.828334Z  ...  47433.0     Women     Accessories   \n",
              "\n",
              "         subCategory   articleType baseColour  season    year   usage  \\\n",
              "0              Shoes  Casual Shoes      Black  Summer  2012.0  Casual   \n",
              "1              Shoes  Casual Shoes      Black  Summer  2012.0  Casual   \n",
              "2              Shoes  Casual Shoes      Black  Summer  2012.0  Casual   \n",
              "3              Shoes  Casual Shoes      Black  Summer  2012.0  Casual   \n",
              "4              Shoes  Casual Shoes      Black  Summer  2012.0  Casual   \n",
              "...              ...           ...        ...     ...     ...     ...   \n",
              "20759559        Bags      Handbags      Brown  Summer  2012.0  Casual   \n",
              "20759560        Bags      Handbags      Brown  Summer  2012.0  Casual   \n",
              "20759561        Bags      Handbags      Brown  Summer  2012.0  Casual   \n",
              "20759562        Bags      Handbags      Brown  Summer  2012.0  Casual   \n",
              "20759563        Bags      Handbags      Brown  Summer  2012.0  Casual   \n",
              "\n",
              "                  productDisplayName  \n",
              "0               Vans Men Black Shoes  \n",
              "1               Vans Men Black Shoes  \n",
              "2               Vans Men Black Shoes  \n",
              "3               Vans Men Black Shoes  \n",
              "4               Vans Men Black Shoes  \n",
              "...                              ...  \n",
              "20759559  Baggit Women Brown Handbag  \n",
              "20759560  Baggit Women Brown Handbag  \n",
              "20759561  Baggit Women Brown Handbag  \n",
              "20759562  Baggit Women Brown Handbag  \n",
              "20759563  Baggit Women Brown Handbag  \n",
              "\n",
              "[20759564 rows x 45 columns]"
            ],
            "text/html": [
              "\n",
              "  <div id=\"df-9f7a2c76-2c0f-4e48-a617-c8e8222652f7\" class=\"colab-df-container\">\n",
              "    <div>\n",
              "<style scoped>\n",
              "    .dataframe tbody tr th:only-of-type {\n",
              "        vertical-align: middle;\n",
              "    }\n",
              "\n",
              "    .dataframe tbody tr th {\n",
              "        vertical-align: top;\n",
              "    }\n",
              "\n",
              "    .dataframe thead th {\n",
              "        text-align: right;\n",
              "    }\n",
              "</style>\n",
              "<table border=\"1\" class=\"dataframe\">\n",
              "  <thead>\n",
              "    <tr style=\"text-align: right;\">\n",
              "      <th></th>\n",
              "      <th>created_at</th>\n",
              "      <th>customer_id</th>\n",
              "      <th>booking_id</th>\n",
              "      <th>session_id</th>\n",
              "      <th>payment_method</th>\n",
              "      <th>payment_status</th>\n",
              "      <th>promo_amount</th>\n",
              "      <th>promo_code</th>\n",
              "      <th>shipment_fee</th>\n",
              "      <th>shipment_date_limit</th>\n",
              "      <th>...</th>\n",
              "      <th>id</th>\n",
              "      <th>gender_y</th>\n",
              "      <th>masterCategory</th>\n",
              "      <th>subCategory</th>\n",
              "      <th>articleType</th>\n",
              "      <th>baseColour</th>\n",
              "      <th>season</th>\n",
              "      <th>year</th>\n",
              "      <th>usage</th>\n",
              "      <th>productDisplayName</th>\n",
              "    </tr>\n",
              "  </thead>\n",
              "  <tbody>\n",
              "    <tr>\n",
              "      <th>0</th>\n",
              "      <td>2018-07-29T15:22:01.458193Z</td>\n",
              "      <td>5868</td>\n",
              "      <td>186e2bee-0637-4710-8981-50c2d737bc42</td>\n",
              "      <td>3abaa6ce-e320-4e51-9469-d9f3fa328e86</td>\n",
              "      <td>Debit Card</td>\n",
              "      <td>Success</td>\n",
              "      <td>1415</td>\n",
              "      <td>WEEKENDSERU</td>\n",
              "      <td>10000</td>\n",
              "      <td>2018-08-03T05:07:24.812676Z</td>\n",
              "      <td>...</td>\n",
              "      <td>54728.0</td>\n",
              "      <td>Men</td>\n",
              "      <td>Footwear</td>\n",
              "      <td>Shoes</td>\n",
              "      <td>Casual Shoes</td>\n",
              "      <td>Black</td>\n",
              "      <td>Summer</td>\n",
              "      <td>2012.0</td>\n",
              "      <td>Casual</td>\n",
              "      <td>Vans Men Black Shoes</td>\n",
              "    </tr>\n",
              "    <tr>\n",
              "      <th>1</th>\n",
              "      <td>2018-07-29T15:22:01.458193Z</td>\n",
              "      <td>5868</td>\n",
              "      <td>186e2bee-0637-4710-8981-50c2d737bc42</td>\n",
              "      <td>3abaa6ce-e320-4e51-9469-d9f3fa328e86</td>\n",
              "      <td>Debit Card</td>\n",
              "      <td>Success</td>\n",
              "      <td>1415</td>\n",
              "      <td>WEEKENDSERU</td>\n",
              "      <td>10000</td>\n",
              "      <td>2018-08-03T05:07:24.812676Z</td>\n",
              "      <td>...</td>\n",
              "      <td>54728.0</td>\n",
              "      <td>Men</td>\n",
              "      <td>Footwear</td>\n",
              "      <td>Shoes</td>\n",
              "      <td>Casual Shoes</td>\n",
              "      <td>Black</td>\n",
              "      <td>Summer</td>\n",
              "      <td>2012.0</td>\n",
              "      <td>Casual</td>\n",
              "      <td>Vans Men Black Shoes</td>\n",
              "    </tr>\n",
              "    <tr>\n",
              "      <th>2</th>\n",
              "      <td>2018-07-29T15:22:01.458193Z</td>\n",
              "      <td>5868</td>\n",
              "      <td>186e2bee-0637-4710-8981-50c2d737bc42</td>\n",
              "      <td>3abaa6ce-e320-4e51-9469-d9f3fa328e86</td>\n",
              "      <td>Debit Card</td>\n",
              "      <td>Success</td>\n",
              "      <td>1415</td>\n",
              "      <td>WEEKENDSERU</td>\n",
              "      <td>10000</td>\n",
              "      <td>2018-08-03T05:07:24.812676Z</td>\n",
              "      <td>...</td>\n",
              "      <td>54728.0</td>\n",
              "      <td>Men</td>\n",
              "      <td>Footwear</td>\n",
              "      <td>Shoes</td>\n",
              "      <td>Casual Shoes</td>\n",
              "      <td>Black</td>\n",
              "      <td>Summer</td>\n",
              "      <td>2012.0</td>\n",
              "      <td>Casual</td>\n",
              "      <td>Vans Men Black Shoes</td>\n",
              "    </tr>\n",
              "    <tr>\n",
              "      <th>3</th>\n",
              "      <td>2018-07-29T15:22:01.458193Z</td>\n",
              "      <td>5868</td>\n",
              "      <td>186e2bee-0637-4710-8981-50c2d737bc42</td>\n",
              "      <td>3abaa6ce-e320-4e51-9469-d9f3fa328e86</td>\n",
              "      <td>Debit Card</td>\n",
              "      <td>Success</td>\n",
              "      <td>1415</td>\n",
              "      <td>WEEKENDSERU</td>\n",
              "      <td>10000</td>\n",
              "      <td>2018-08-03T05:07:24.812676Z</td>\n",
              "      <td>...</td>\n",
              "      <td>54728.0</td>\n",
              "      <td>Men</td>\n",
              "      <td>Footwear</td>\n",
              "      <td>Shoes</td>\n",
              "      <td>Casual Shoes</td>\n",
              "      <td>Black</td>\n",
              "      <td>Summer</td>\n",
              "      <td>2012.0</td>\n",
              "      <td>Casual</td>\n",
              "      <td>Vans Men Black Shoes</td>\n",
              "    </tr>\n",
              "    <tr>\n",
              "      <th>4</th>\n",
              "      <td>2018-07-29T15:22:01.458193Z</td>\n",
              "      <td>5868</td>\n",
              "      <td>186e2bee-0637-4710-8981-50c2d737bc42</td>\n",
              "      <td>3abaa6ce-e320-4e51-9469-d9f3fa328e86</td>\n",
              "      <td>Debit Card</td>\n",
              "      <td>Success</td>\n",
              "      <td>1415</td>\n",
              "      <td>WEEKENDSERU</td>\n",
              "      <td>10000</td>\n",
              "      <td>2018-08-03T05:07:24.812676Z</td>\n",
              "      <td>...</td>\n",
              "      <td>54728.0</td>\n",
              "      <td>Men</td>\n",
              "      <td>Footwear</td>\n",
              "      <td>Shoes</td>\n",
              "      <td>Casual Shoes</td>\n",
              "      <td>Black</td>\n",
              "      <td>Summer</td>\n",
              "      <td>2012.0</td>\n",
              "      <td>Casual</td>\n",
              "      <td>Vans Men Black Shoes</td>\n",
              "    </tr>\n",
              "    <tr>\n",
              "      <th>...</th>\n",
              "      <td>...</td>\n",
              "      <td>...</td>\n",
              "      <td>...</td>\n",
              "      <td>...</td>\n",
              "      <td>...</td>\n",
              "      <td>...</td>\n",
              "      <td>...</td>\n",
              "      <td>...</td>\n",
              "      <td>...</td>\n",
              "      <td>...</td>\n",
              "      <td>...</td>\n",
              "      <td>...</td>\n",
              "      <td>...</td>\n",
              "      <td>...</td>\n",
              "      <td>...</td>\n",
              "      <td>...</td>\n",
              "      <td>...</td>\n",
              "      <td>...</td>\n",
              "      <td>...</td>\n",
              "      <td>...</td>\n",
              "      <td>...</td>\n",
              "    </tr>\n",
              "    <tr>\n",
              "      <th>20759559</th>\n",
              "      <td>2019-12-19T12:47:14.701215Z</td>\n",
              "      <td>58180</td>\n",
              "      <td>b242e188-5f94-4448-a038-c5865842374b</td>\n",
              "      <td>5e3183df-198b-40e0-b861-27ef694a832a</td>\n",
              "      <td>Gopay</td>\n",
              "      <td>Success</td>\n",
              "      <td>4724</td>\n",
              "      <td>BUYMORE</td>\n",
              "      <td>10000</td>\n",
              "      <td>2019-12-23T06:02:05.828334Z</td>\n",
              "      <td>...</td>\n",
              "      <td>47433.0</td>\n",
              "      <td>Women</td>\n",
              "      <td>Accessories</td>\n",
              "      <td>Bags</td>\n",
              "      <td>Handbags</td>\n",
              "      <td>Brown</td>\n",
              "      <td>Summer</td>\n",
              "      <td>2012.0</td>\n",
              "      <td>Casual</td>\n",
              "      <td>Baggit Women Brown Handbag</td>\n",
              "    </tr>\n",
              "    <tr>\n",
              "      <th>20759560</th>\n",
              "      <td>2019-12-19T12:47:14.701215Z</td>\n",
              "      <td>58180</td>\n",
              "      <td>b242e188-5f94-4448-a038-c5865842374b</td>\n",
              "      <td>5e3183df-198b-40e0-b861-27ef694a832a</td>\n",
              "      <td>Gopay</td>\n",
              "      <td>Success</td>\n",
              "      <td>4724</td>\n",
              "      <td>BUYMORE</td>\n",
              "      <td>10000</td>\n",
              "      <td>2019-12-23T06:02:05.828334Z</td>\n",
              "      <td>...</td>\n",
              "      <td>47433.0</td>\n",
              "      <td>Women</td>\n",
              "      <td>Accessories</td>\n",
              "      <td>Bags</td>\n",
              "      <td>Handbags</td>\n",
              "      <td>Brown</td>\n",
              "      <td>Summer</td>\n",
              "      <td>2012.0</td>\n",
              "      <td>Casual</td>\n",
              "      <td>Baggit Women Brown Handbag</td>\n",
              "    </tr>\n",
              "    <tr>\n",
              "      <th>20759561</th>\n",
              "      <td>2019-12-19T12:47:14.701215Z</td>\n",
              "      <td>58180</td>\n",
              "      <td>b242e188-5f94-4448-a038-c5865842374b</td>\n",
              "      <td>5e3183df-198b-40e0-b861-27ef694a832a</td>\n",
              "      <td>Gopay</td>\n",
              "      <td>Success</td>\n",
              "      <td>4724</td>\n",
              "      <td>BUYMORE</td>\n",
              "      <td>10000</td>\n",
              "      <td>2019-12-23T06:02:05.828334Z</td>\n",
              "      <td>...</td>\n",
              "      <td>47433.0</td>\n",
              "      <td>Women</td>\n",
              "      <td>Accessories</td>\n",
              "      <td>Bags</td>\n",
              "      <td>Handbags</td>\n",
              "      <td>Brown</td>\n",
              "      <td>Summer</td>\n",
              "      <td>2012.0</td>\n",
              "      <td>Casual</td>\n",
              "      <td>Baggit Women Brown Handbag</td>\n",
              "    </tr>\n",
              "    <tr>\n",
              "      <th>20759562</th>\n",
              "      <td>2019-12-19T12:47:14.701215Z</td>\n",
              "      <td>58180</td>\n",
              "      <td>b242e188-5f94-4448-a038-c5865842374b</td>\n",
              "      <td>5e3183df-198b-40e0-b861-27ef694a832a</td>\n",
              "      <td>Gopay</td>\n",
              "      <td>Success</td>\n",
              "      <td>4724</td>\n",
              "      <td>BUYMORE</td>\n",
              "      <td>10000</td>\n",
              "      <td>2019-12-23T06:02:05.828334Z</td>\n",
              "      <td>...</td>\n",
              "      <td>47433.0</td>\n",
              "      <td>Women</td>\n",
              "      <td>Accessories</td>\n",
              "      <td>Bags</td>\n",
              "      <td>Handbags</td>\n",
              "      <td>Brown</td>\n",
              "      <td>Summer</td>\n",
              "      <td>2012.0</td>\n",
              "      <td>Casual</td>\n",
              "      <td>Baggit Women Brown Handbag</td>\n",
              "    </tr>\n",
              "    <tr>\n",
              "      <th>20759563</th>\n",
              "      <td>2019-12-19T12:47:14.701215Z</td>\n",
              "      <td>58180</td>\n",
              "      <td>b242e188-5f94-4448-a038-c5865842374b</td>\n",
              "      <td>5e3183df-198b-40e0-b861-27ef694a832a</td>\n",
              "      <td>Gopay</td>\n",
              "      <td>Success</td>\n",
              "      <td>4724</td>\n",
              "      <td>BUYMORE</td>\n",
              "      <td>10000</td>\n",
              "      <td>2019-12-23T06:02:05.828334Z</td>\n",
              "      <td>...</td>\n",
              "      <td>47433.0</td>\n",
              "      <td>Women</td>\n",
              "      <td>Accessories</td>\n",
              "      <td>Bags</td>\n",
              "      <td>Handbags</td>\n",
              "      <td>Brown</td>\n",
              "      <td>Summer</td>\n",
              "      <td>2012.0</td>\n",
              "      <td>Casual</td>\n",
              "      <td>Baggit Women Brown Handbag</td>\n",
              "    </tr>\n",
              "  </tbody>\n",
              "</table>\n",
              "<p>20759564 rows × 45 columns</p>\n",
              "</div>\n",
              "    <div class=\"colab-df-buttons\">\n",
              "\n",
              "  <div class=\"colab-df-container\">\n",
              "    <button class=\"colab-df-convert\" onclick=\"convertToInteractive('df-9f7a2c76-2c0f-4e48-a617-c8e8222652f7')\"\n",
              "            title=\"Convert this dataframe to an interactive table.\"\n",
              "            style=\"display:none;\">\n",
              "\n",
              "  <svg xmlns=\"http://www.w3.org/2000/svg\" height=\"24px\" viewBox=\"0 -960 960 960\">\n",
              "    <path d=\"M120-120v-720h720v720H120Zm60-500h600v-160H180v160Zm220 220h160v-160H400v160Zm0 220h160v-160H400v160ZM180-400h160v-160H180v160Zm440 0h160v-160H620v160ZM180-180h160v-160H180v160Zm440 0h160v-160H620v160Z\"/>\n",
              "  </svg>\n",
              "    </button>\n",
              "\n",
              "  <style>\n",
              "    .colab-df-container {\n",
              "      display:flex;\n",
              "      gap: 12px;\n",
              "    }\n",
              "\n",
              "    .colab-df-convert {\n",
              "      background-color: #E8F0FE;\n",
              "      border: none;\n",
              "      border-radius: 50%;\n",
              "      cursor: pointer;\n",
              "      display: none;\n",
              "      fill: #1967D2;\n",
              "      height: 32px;\n",
              "      padding: 0 0 0 0;\n",
              "      width: 32px;\n",
              "    }\n",
              "\n",
              "    .colab-df-convert:hover {\n",
              "      background-color: #E2EBFA;\n",
              "      box-shadow: 0px 1px 2px rgba(60, 64, 67, 0.3), 0px 1px 3px 1px rgba(60, 64, 67, 0.15);\n",
              "      fill: #174EA6;\n",
              "    }\n",
              "\n",
              "    .colab-df-buttons div {\n",
              "      margin-bottom: 4px;\n",
              "    }\n",
              "\n",
              "    [theme=dark] .colab-df-convert {\n",
              "      background-color: #3B4455;\n",
              "      fill: #D2E3FC;\n",
              "    }\n",
              "\n",
              "    [theme=dark] .colab-df-convert:hover {\n",
              "      background-color: #434B5C;\n",
              "      box-shadow: 0px 1px 3px 1px rgba(0, 0, 0, 0.15);\n",
              "      filter: drop-shadow(0px 1px 2px rgba(0, 0, 0, 0.3));\n",
              "      fill: #FFFFFF;\n",
              "    }\n",
              "  </style>\n",
              "\n",
              "    <script>\n",
              "      const buttonEl =\n",
              "        document.querySelector('#df-9f7a2c76-2c0f-4e48-a617-c8e8222652f7 button.colab-df-convert');\n",
              "      buttonEl.style.display =\n",
              "        google.colab.kernel.accessAllowed ? 'block' : 'none';\n",
              "\n",
              "      async function convertToInteractive(key) {\n",
              "        const element = document.querySelector('#df-9f7a2c76-2c0f-4e48-a617-c8e8222652f7');\n",
              "        const dataTable =\n",
              "          await google.colab.kernel.invokeFunction('convertToInteractive',\n",
              "                                                    [key], {});\n",
              "        if (!dataTable) return;\n",
              "\n",
              "        const docLinkHtml = 'Like what you see? Visit the ' +\n",
              "          '<a target=\"_blank\" href=https://colab.research.google.com/notebooks/data_table.ipynb>data table notebook</a>'\n",
              "          + ' to learn more about interactive tables.';\n",
              "        element.innerHTML = '';\n",
              "        dataTable['output_type'] = 'display_data';\n",
              "        await google.colab.output.renderOutput(dataTable, element);\n",
              "        const docLink = document.createElement('div');\n",
              "        docLink.innerHTML = docLinkHtml;\n",
              "        element.appendChild(docLink);\n",
              "      }\n",
              "    </script>\n",
              "  </div>\n",
              "\n",
              "\n",
              "<div id=\"df-2f3eeea3-306a-4ba4-957d-ace0637ecff5\">\n",
              "  <button class=\"colab-df-quickchart\" onclick=\"quickchart('df-2f3eeea3-306a-4ba4-957d-ace0637ecff5')\"\n",
              "            title=\"Suggest charts\"\n",
              "            style=\"display:none;\">\n",
              "\n",
              "<svg xmlns=\"http://www.w3.org/2000/svg\" height=\"24px\"viewBox=\"0 0 24 24\"\n",
              "     width=\"24px\">\n",
              "    <g>\n",
              "        <path d=\"M19 3H5c-1.1 0-2 .9-2 2v14c0 1.1.9 2 2 2h14c1.1 0 2-.9 2-2V5c0-1.1-.9-2-2-2zM9 17H7v-7h2v7zm4 0h-2V7h2v10zm4 0h-2v-4h2v4z\"/>\n",
              "    </g>\n",
              "</svg>\n",
              "  </button>\n",
              "\n",
              "<style>\n",
              "  .colab-df-quickchart {\n",
              "      --bg-color: #E8F0FE;\n",
              "      --fill-color: #1967D2;\n",
              "      --hover-bg-color: #E2EBFA;\n",
              "      --hover-fill-color: #174EA6;\n",
              "      --disabled-fill-color: #AAA;\n",
              "      --disabled-bg-color: #DDD;\n",
              "  }\n",
              "\n",
              "  [theme=dark] .colab-df-quickchart {\n",
              "      --bg-color: #3B4455;\n",
              "      --fill-color: #D2E3FC;\n",
              "      --hover-bg-color: #434B5C;\n",
              "      --hover-fill-color: #FFFFFF;\n",
              "      --disabled-bg-color: #3B4455;\n",
              "      --disabled-fill-color: #666;\n",
              "  }\n",
              "\n",
              "  .colab-df-quickchart {\n",
              "    background-color: var(--bg-color);\n",
              "    border: none;\n",
              "    border-radius: 50%;\n",
              "    cursor: pointer;\n",
              "    display: none;\n",
              "    fill: var(--fill-color);\n",
              "    height: 32px;\n",
              "    padding: 0;\n",
              "    width: 32px;\n",
              "  }\n",
              "\n",
              "  .colab-df-quickchart:hover {\n",
              "    background-color: var(--hover-bg-color);\n",
              "    box-shadow: 0 1px 2px rgba(60, 64, 67, 0.3), 0 1px 3px 1px rgba(60, 64, 67, 0.15);\n",
              "    fill: var(--button-hover-fill-color);\n",
              "  }\n",
              "\n",
              "  .colab-df-quickchart-complete:disabled,\n",
              "  .colab-df-quickchart-complete:disabled:hover {\n",
              "    background-color: var(--disabled-bg-color);\n",
              "    fill: var(--disabled-fill-color);\n",
              "    box-shadow: none;\n",
              "  }\n",
              "\n",
              "  .colab-df-spinner {\n",
              "    border: 2px solid var(--fill-color);\n",
              "    border-color: transparent;\n",
              "    border-bottom-color: var(--fill-color);\n",
              "    animation:\n",
              "      spin 1s steps(1) infinite;\n",
              "  }\n",
              "\n",
              "  @keyframes spin {\n",
              "    0% {\n",
              "      border-color: transparent;\n",
              "      border-bottom-color: var(--fill-color);\n",
              "      border-left-color: var(--fill-color);\n",
              "    }\n",
              "    20% {\n",
              "      border-color: transparent;\n",
              "      border-left-color: var(--fill-color);\n",
              "      border-top-color: var(--fill-color);\n",
              "    }\n",
              "    30% {\n",
              "      border-color: transparent;\n",
              "      border-left-color: var(--fill-color);\n",
              "      border-top-color: var(--fill-color);\n",
              "      border-right-color: var(--fill-color);\n",
              "    }\n",
              "    40% {\n",
              "      border-color: transparent;\n",
              "      border-right-color: var(--fill-color);\n",
              "      border-top-color: var(--fill-color);\n",
              "    }\n",
              "    60% {\n",
              "      border-color: transparent;\n",
              "      border-right-color: var(--fill-color);\n",
              "    }\n",
              "    80% {\n",
              "      border-color: transparent;\n",
              "      border-right-color: var(--fill-color);\n",
              "      border-bottom-color: var(--fill-color);\n",
              "    }\n",
              "    90% {\n",
              "      border-color: transparent;\n",
              "      border-bottom-color: var(--fill-color);\n",
              "    }\n",
              "  }\n",
              "</style>\n",
              "\n",
              "  <script>\n",
              "    async function quickchart(key) {\n",
              "      const quickchartButtonEl =\n",
              "        document.querySelector('#' + key + ' button');\n",
              "      quickchartButtonEl.disabled = true;  // To prevent multiple clicks.\n",
              "      quickchartButtonEl.classList.add('colab-df-spinner');\n",
              "      try {\n",
              "        const charts = await google.colab.kernel.invokeFunction(\n",
              "            'suggestCharts', [key], {});\n",
              "      } catch (error) {\n",
              "        console.error('Error during call to suggestCharts:', error);\n",
              "      }\n",
              "      quickchartButtonEl.classList.remove('colab-df-spinner');\n",
              "      quickchartButtonEl.classList.add('colab-df-quickchart-complete');\n",
              "    }\n",
              "    (() => {\n",
              "      let quickchartButtonEl =\n",
              "        document.querySelector('#df-2f3eeea3-306a-4ba4-957d-ace0637ecff5 button');\n",
              "      quickchartButtonEl.style.display =\n",
              "        google.colab.kernel.accessAllowed ? 'block' : 'none';\n",
              "    })();\n",
              "  </script>\n",
              "</div>\n",
              "    </div>\n",
              "  </div>\n"
            ]
          },
          "metadata": {},
          "execution_count": 17
        }
      ],
      "source": [
        "# Menampilkan Dataframe\n",
        "data"
      ]
    },
    {
      "cell_type": "code",
      "source": [
        "data.info()"
      ],
      "metadata": {
        "colab": {
          "base_uri": "https://localhost:8080/"
        },
        "id": "9KPcstL9ffnY",
        "outputId": "c735ceb1-0cf7-40fe-a92a-50053e1e2101"
      },
      "execution_count": null,
      "outputs": [
        {
          "output_type": "stream",
          "name": "stdout",
          "text": [
            "<class 'pandas.core.frame.DataFrame'>\n",
            "Int64Index: 20759564 entries, 0 to 20759563\n",
            "Data columns (total 45 columns):\n",
            " #   Column                  Dtype  \n",
            "---  ------                  -----  \n",
            " 0   created_at              object \n",
            " 1   customer_id             int64  \n",
            " 2   booking_id              object \n",
            " 3   session_id              object \n",
            " 4   payment_method          object \n",
            " 5   payment_status          object \n",
            " 6   promo_amount            int64  \n",
            " 7   promo_code              object \n",
            " 8   shipment_fee            int64  \n",
            " 9   shipment_date_limit     object \n",
            " 10  shipment_location_lat   float64\n",
            " 11  shipment_location_long  float64\n",
            " 12  total_amount            int64  \n",
            " 13  first_name              object \n",
            " 14  last_name               object \n",
            " 15  username                object \n",
            " 16  email                   object \n",
            " 17  gender_x                object \n",
            " 18  birthdate               object \n",
            " 19  device_type             object \n",
            " 20  device_id               object \n",
            " 21  device_version          object \n",
            " 22  home_location_lat       float64\n",
            " 23  home_location_long      float64\n",
            " 24  home_location           object \n",
            " 25  home_country            object \n",
            " 26  first_join_date         object \n",
            " 27  event_name              object \n",
            " 28  event_time              object \n",
            " 29  event_id                object \n",
            " 30  traffic_source          object \n",
            " 31  product_id              object \n",
            " 32  quantity                object \n",
            " 33  item_price              object \n",
            " 34  search_keywords         object \n",
            " 35  id                      float64\n",
            " 36  gender_y                object \n",
            " 37  masterCategory          object \n",
            " 38  subCategory             object \n",
            " 39  articleType             object \n",
            " 40  baseColour              object \n",
            " 41  season                  object \n",
            " 42  year                    float64\n",
            " 43  usage                   object \n",
            " 44  productDisplayName      object \n",
            "dtypes: float64(6), int64(4), object(35)\n",
            "memory usage: 7.1+ GB\n"
          ]
        }
      ]
    },
    {
      "cell_type": "markdown",
      "source": [
        "###Feature Engginering"
      ],
      "metadata": {
        "id": "mavBTdtx30Zo"
      }
    },
    {
      "cell_type": "markdown",
      "source": [
        "####Convert Datetime"
      ],
      "metadata": {
        "id": "4Wyj5C2J4Ylh"
      }
    },
    {
      "cell_type": "code",
      "execution_count": null,
      "metadata": {
        "id": "DdTWOtPXsuMe"
      },
      "outputs": [],
      "source": [
        "# Mengubah kolom event_time dan shipment_date_limit menjadi tipe data datetime\n",
        "data['event_time'] = pd.to_datetime(data['event_time'])\n",
        "data['shipment_date_limit'] = pd.to_datetime(data['shipment_date_limit'])"
      ]
    },
    {
      "cell_type": "code",
      "execution_count": null,
      "metadata": {
        "id": "_3cvqj643sWs"
      },
      "outputs": [],
      "source": [
        "# Mengubah format menjadi tahun - bulan - tanggal\n",
        "data['event_time'] = data['event_time'].dt.strftime('%Y-%m-%d')\n",
        "data['shipment_date_limit'] = data['shipment_date_limit'].dt.strftime('%Y-%m-%d')"
      ]
    },
    {
      "cell_type": "code",
      "execution_count": null,
      "metadata": {
        "id": "R8LDplbR3wyu"
      },
      "outputs": [],
      "source": [
        "# Mengubah kolom event_time dan shipment_date_limit menjadi tipe data datetime\n",
        "data['event_time'] = pd.to_datetime(data['event_time'])\n",
        "data['shipment_date_limit'] = pd.to_datetime(data['shipment_date_limit'])"
      ]
    },
    {
      "cell_type": "markdown",
      "source": [
        "####Fitur Churn"
      ],
      "metadata": {
        "id": "RRwM34aW4clE"
      }
    },
    {
      "cell_type": "code",
      "source": [
        "# Mengindeks DataFrame berdasarkan kolom 'Tanggal' dan menyaring baris sebelum tanggal tertentu\n",
        "cut_date = pd.to_datetime('2021-08-01')\n",
        "data = data[data['event_time'] >= cut_date]"
      ],
      "metadata": {
        "id": "BEKsz3IL3Xfy"
      },
      "execution_count": null,
      "outputs": []
    },
    {
      "cell_type": "code",
      "source": [
        "# Descriptive statistic dari kolom event_time\n",
        "data['event_time'].describe()"
      ],
      "metadata": {
        "colab": {
          "base_uri": "https://localhost:8080/"
        },
        "id": "nXn838Dp5800",
        "outputId": "f719c5f3-5f12-49d8-ba05-29624a3c4c46"
      },
      "execution_count": null,
      "outputs": [
        {
          "output_type": "stream",
          "name": "stderr",
          "text": [
            "<ipython-input-22-6904d059edde>:2: FutureWarning: Treating datetime data as categorical rather than numeric in `.describe` is deprecated and will be removed in a future version of pandas. Specify `datetime_is_numeric=True` to silence this warning and adopt the future behavior now.\n",
            "  data['event_time'].describe()\n"
          ]
        },
        {
          "output_type": "execute_result",
          "data": {
            "text/plain": [
              "count                 7794507\n",
              "unique                    366\n",
              "top       2022-05-29 00:00:00\n",
              "freq                    28838\n",
              "first     2021-08-01 00:00:00\n",
              "last      2022-08-01 00:00:00\n",
              "Name: event_time, dtype: object"
            ]
          },
          "metadata": {},
          "execution_count": 22
        }
      ]
    },
    {
      "cell_type": "code",
      "execution_count": null,
      "metadata": {
        "id": "RLcoeKKK5oaE"
      },
      "outputs": [],
      "source": [
        "# Menghitung waktu 3 bulan sejak batas waktu tertentu\n",
        "cutoff_date = pd.to_datetime('2022-08-01')\n",
        "month_ago = cutoff_date - pd.DateOffset(months=3)"
      ]
    },
    {
      "cell_type": "code",
      "execution_count": null,
      "metadata": {
        "id": "pKF-BZVes9wr",
        "colab": {
          "base_uri": "https://localhost:8080/"
        },
        "outputId": "dc47eadb-567b-4b52-ff5b-da268766cadd"
      },
      "outputs": [
        {
          "output_type": "stream",
          "name": "stderr",
          "text": [
            "<ipython-input-16-31d56b8f9335>:2: SettingWithCopyWarning: \n",
            "A value is trying to be set on a copy of a slice from a DataFrame.\n",
            "Try using .loc[row_indexer,col_indexer] = value instead\n",
            "\n",
            "See the caveats in the documentation: https://pandas.pydata.org/pandas-docs/stable/user_guide/indexing.html#returning-a-view-versus-a-copy\n",
            "  data['churn'] = (data['event_time'] <= month_ago).astype(int)\n"
          ]
        }
      ],
      "source": [
        "# Membuat kolom 'churn' berdasarkan kondisi\n",
        "data['churn'] = (data['event_time'] <= month_ago).astype(int)"
      ]
    },
    {
      "cell_type": "code",
      "source": [
        "# Menampilkan jumlah value dari kolom 'churn'\n",
        "data[['churn']].value_counts()"
      ],
      "metadata": {
        "colab": {
          "base_uri": "https://localhost:8080/"
        },
        "id": "F6a10I_gOBrC",
        "outputId": "ce267c27-a08e-4680-a336-a5da8f534f45"
      },
      "execution_count": null,
      "outputs": [
        {
          "output_type": "execute_result",
          "data": {
            "text/plain": [
              "churn\n",
              "1        5699952\n",
              "0        2094555\n",
              "dtype: int64"
            ]
          },
          "metadata": {},
          "execution_count": 25
        }
      ]
    },
    {
      "cell_type": "markdown",
      "source": [
        "#### Fitur age"
      ],
      "metadata": {
        "id": "1YgZJUml5kQc"
      }
    },
    {
      "cell_type": "code",
      "execution_count": null,
      "metadata": {
        "id": "-84LD5-VzVNm"
      },
      "outputs": [],
      "source": [
        "# Mengonversi kolom 'birthdate' menjadi objek datetime\n",
        "data['birthdate'] = pd.to_datetime(data['birthdate'])"
      ]
    },
    {
      "cell_type": "code",
      "execution_count": null,
      "metadata": {
        "id": "huAXMX1zzYGE"
      },
      "outputs": [],
      "source": [
        "# Menghitung umur dan membuat kolom baru 'age'\n",
        "current_date = datetime.now()\n",
        "data['age'] = current_date.year - data['birthdate'].dt.year\n",
        "\n",
        "data.drop(columns='birthdate', inplace=True)"
      ]
    },
    {
      "cell_type": "markdown",
      "source": [
        "#### Fitur age_join"
      ],
      "metadata": {
        "id": "wCdDANHP5n6J"
      }
    },
    {
      "cell_type": "code",
      "execution_count": null,
      "metadata": {
        "id": "_tc7amZKzbuF"
      },
      "outputs": [],
      "source": [
        "# Mengonversi kolom 'first_join_date' menjadi objek datetime\n",
        "data['first_join_date'] = pd.to_datetime(data['first_join_date'])"
      ]
    },
    {
      "cell_type": "code",
      "execution_count": null,
      "metadata": {
        "id": "ozGg2oEszeX-"
      },
      "outputs": [],
      "source": [
        "# Menghitung waktu pertama join dan membuat kolom baru 'age_join'\n",
        "current_date = datetime.now()\n",
        "data['age_join'] = current_date.year - data['first_join_date'].dt.year\n",
        "\n",
        "data.drop(columns='first_join_date', inplace=True)"
      ]
    },
    {
      "cell_type": "markdown",
      "source": [
        "#### Search Keyword"
      ],
      "metadata": {
        "id": "k62FLqR95po6"
      }
    },
    {
      "cell_type": "code",
      "source": [
        "# Menampilkan jumlah value dari kolom 'search_keyword'\n",
        "data['search_keywords'].value_counts()"
      ],
      "metadata": {
        "id": "RZe42FMf71hw",
        "colab": {
          "base_uri": "https://localhost:8080/"
        },
        "outputId": "da6fa4ed-7902-4465-fc79-c5ae969222c3"
      },
      "execution_count": null,
      "outputs": [
        {
          "output_type": "execute_result",
          "data": {
            "text/plain": [
              "Dress Kondangan    147887\n",
              "Tas Wanita          73814\n",
              "Bekas               64894\n",
              "T-Shirt             59155\n",
              "Baju                48559\n",
              "Kaos                48366\n",
              "Dress Pesta         44861\n",
              "Sepatu Nike         29350\n",
              "Tas Kerja           22684\n",
              "Thrift              16564\n",
              "Second              16470\n",
              "Second Hand         16461\n",
              "Barang Bekas        16340\n",
              "Celana Panjang      16267\n",
              "Sepatu              16027\n",
              "Sepatu Adidas       15117\n",
              "Sendal               7399\n",
              "Celana               7111\n",
              "Jam                  4393\n",
              "T-shirt              4369\n",
              "Topi                 3062\n",
              "Baju Tidur           1402\n",
              "Daster                742\n",
              "Name: search_keywords, dtype: int64"
            ]
          },
          "metadata": {},
          "execution_count": 22
        }
      ]
    },
    {
      "cell_type": "code",
      "execution_count": null,
      "metadata": {
        "id": "CNQoQs6uv8wA"
      },
      "outputs": [],
      "source": [
        "# Mengganti value NaN dengan value 'tidak melakukan search' dalam kolom search_keyword\n",
        "data['search_keywords'].fillna(\"tidak melakukan search\", inplace=True)"
      ]
    },
    {
      "cell_type": "code",
      "source": [
        "# Mengganti nilai selain 'tidak melakukan search' dengan 'melakukan search' dalam kolom 'search_keywords'\n",
        "data['search_keywords'] = data['search_keywords'].apply(lambda x: 'melakukan search' if x != 'tidak melakukan search' else x)"
      ],
      "metadata": {
        "id": "K6x9kZXT8kQs"
      },
      "execution_count": null,
      "outputs": []
    },
    {
      "cell_type": "code",
      "source": [
        "# Menampilkan jumlah value dari kolom 'search_keyword'\n",
        "data['search_keywords'].value_counts()"
      ],
      "metadata": {
        "colab": {
          "base_uri": "https://localhost:8080/"
        },
        "id": "zr_q0NEY9UpI",
        "outputId": "99eff054-04c0-44ee-fd11-8c11ec09c8cd"
      },
      "execution_count": null,
      "outputs": [
        {
          "output_type": "execute_result",
          "data": {
            "text/plain": [
              "tidak melakukan search    7113213\n",
              "melakukan search           681294\n",
              "Name: search_keywords, dtype: int64"
            ]
          },
          "metadata": {},
          "execution_count": 32
        }
      ]
    },
    {
      "cell_type": "markdown",
      "source": [
        "#### Promo Code"
      ],
      "metadata": {
        "id": "0HillHSi55xR"
      }
    },
    {
      "cell_type": "code",
      "source": [
        "# Menampilkan jumlah value dari kolom 'promo_code'\n",
        "data['promo_code'].value_counts()"
      ],
      "metadata": {
        "colab": {
          "base_uri": "https://localhost:8080/"
        },
        "id": "5q8qTgp69a5O",
        "outputId": "2ea6159c-934d-4f5a-c829-0abb52a4391f"
      },
      "execution_count": null,
      "outputs": [
        {
          "output_type": "execute_result",
          "data": {
            "text/plain": [
              "AZ2022           792582\n",
              "BUYMORE          606260\n",
              "WEEKENDSERU      535614\n",
              "XX2022           405989\n",
              "LIBURDONG        186313\n",
              "WEEKENDMANTAP    175167\n",
              "STARTUP          104555\n",
              "SC2022           102823\n",
              "Name: promo_code, dtype: int64"
            ]
          },
          "metadata": {},
          "execution_count": 33
        }
      ]
    },
    {
      "cell_type": "code",
      "execution_count": null,
      "metadata": {
        "id": "3UWH8b4_vt_D"
      },
      "outputs": [],
      "source": [
        "# Mengganti value NaN dengan value 'tidak melakukan search' dalam kolom search_keyword\n",
        "data['promo_code'].fillna(\"tidak menggunakan promo code\", inplace=True)"
      ]
    },
    {
      "cell_type": "code",
      "source": [
        "# Mengganti nilai selain 'tidak menggunakan promo code' dengan 'menggunakan promo' dalam kolom 'promo_code'\n",
        "data['promo_code'] = data['promo_code'].apply(lambda x: 'menggunakan promo' if x != 'tidak menggunakan promo code' else x)"
      ],
      "metadata": {
        "id": "TfqFMPev9aa2"
      },
      "execution_count": null,
      "outputs": []
    },
    {
      "cell_type": "code",
      "source": [
        "# Menampilkan jumlah value dari kolom 'promo_code'\n",
        "data['promo_code'].value_counts()"
      ],
      "metadata": {
        "colab": {
          "base_uri": "https://localhost:8080/"
        },
        "id": "PfHmg9or9l9o",
        "outputId": "b4bbc80a-faca-4837-a300-613b0d08ab95"
      },
      "execution_count": null,
      "outputs": [
        {
          "output_type": "execute_result",
          "data": {
            "text/plain": [
              "tidak menggunakan promo code    4885204\n",
              "menggunakan promo               2909303\n",
              "Name: promo_code, dtype: int64"
            ]
          },
          "metadata": {},
          "execution_count": 36
        }
      ]
    },
    {
      "cell_type": "markdown",
      "source": [
        "#### Payment Methode"
      ],
      "metadata": {
        "id": "w8372rSt6J8Q"
      }
    },
    {
      "cell_type": "code",
      "source": [
        "# Menampilkan jumlah value dari kolom 'payment_method'\n",
        "data['payment_method'].value_counts()"
      ],
      "metadata": {
        "id": "fWmWdN3TBcgH",
        "colab": {
          "base_uri": "https://localhost:8080/"
        },
        "outputId": "97636c43-7377-48df-a508-310ee805cdc1"
      },
      "execution_count": null,
      "outputs": [
        {
          "output_type": "execute_result",
          "data": {
            "text/plain": [
              "Credit Card    2709919\n",
              "Gopay          1569494\n",
              "OVO            1565996\n",
              "Debit Card     1266088\n",
              "LinkAja         683010\n",
              "Name: payment_method, dtype: int64"
            ]
          },
          "metadata": {},
          "execution_count": 37
        }
      ]
    },
    {
      "cell_type": "code",
      "source": [
        "# Mengganti beberapa value menjadi 'Dompet Digital'\n",
        "data['payment_method'] = data['payment_method'].replace({'Gopay': 'Dompet digital', 'OVO': 'Dompet digital', 'LinkAja': 'Dompet digital'})"
      ],
      "metadata": {
        "id": "Y7ZHDL1hAkWX"
      },
      "execution_count": null,
      "outputs": []
    },
    {
      "cell_type": "code",
      "source": [
        "# Menampilkan jumlah value dari kolom 'payment_method'\n",
        "data['payment_method'].value_counts()"
      ],
      "metadata": {
        "id": "jyM4DVHtB6c6",
        "colab": {
          "base_uri": "https://localhost:8080/"
        },
        "outputId": "bd0a88e9-36f6-4fb3-f3f3-16837b789d75"
      },
      "execution_count": null,
      "outputs": [
        {
          "output_type": "execute_result",
          "data": {
            "text/plain": [
              "Dompet digital    3818500\n",
              "Credit Card       2709919\n",
              "Debit Card        1266088\n",
              "Name: payment_method, dtype: int64"
            ]
          },
          "metadata": {},
          "execution_count": 39
        }
      ]
    },
    {
      "cell_type": "markdown",
      "source": [
        "#### Provinsi"
      ],
      "metadata": {
        "id": "yXpb7Rnm6eil"
      }
    },
    {
      "cell_type": "code",
      "source": [
        "# Mengelompokan lokasi tempat tinggal customer menjadi 3 provinsi\n",
        "data['provinsi'] = data['home_location'].replace({\n",
        "    'Jakarta Raya': 'Barat', 'Jawa Barat': 'Barat', 'Jawa Tengah': 'Barat', 'Yogyakarta': 'Barat', 'Jawa Timur': 'Barat',\n",
        "    'Lampung': 'Barat', 'Sumatera Barat': 'Barat', 'Sumatera Utara': 'Barat', 'Riau': 'Barat', 'Bengkulu': 'Barat', 'Banten': 'Tengah', 'Jambi': 'Tengah',\n",
        "    'Bangka Belitung': 'Barat', 'Aceh': 'Barat', 'Kepulauan Riau': 'Timur', 'Sumatera Selatan': 'Barat',\n",
        "\n",
        "    'Kalimantan Barat': 'Tengah', 'Kalimantan Tengah': 'Tengah', 'Kalimantan Selatan': 'Tengah', 'Kalimantan Timur': 'Tengah',\n",
        "    'Sulawesi Utara': 'Tengah', 'Sulawesi Barat': 'Tengah', 'Sulawesi Tengah': 'Tengah', 'Sulawesi Tenggara': 'Tengah', 'Bali': 'Tengah',\n",
        "    'Gorontalo': 'Tengah', 'Sulawesi Selatan': 'Tengah',\n",
        "\n",
        "    'Maluku': 'Timur',   'Nusa Tenggara Barat': 'Timur', 'Papua': 'Timur', 'Papua Barat': 'Timur',  'Nusa Tenggara Timur': 'Timur', 'Maluku Utara': 'Timur'\n",
        "})"
      ],
      "metadata": {
        "id": "LlC0megOATKR"
      },
      "execution_count": null,
      "outputs": []
    },
    {
      "cell_type": "code",
      "source": [
        "# Menampilkan jumlah value dari kolom 'provinsi'\n",
        "data['provinsi'].value_counts()"
      ],
      "metadata": {
        "id": "L2cpgtQJBekA",
        "colab": {
          "base_uri": "https://localhost:8080/"
        },
        "outputId": "289df569-d154-4419-d2e1-6a1f398c560b"
      },
      "execution_count": null,
      "outputs": [
        {
          "output_type": "execute_result",
          "data": {
            "text/plain": [
              "Barat     5373448\n",
              "Tengah    1768358\n",
              "Timur      652701\n",
              "Name: provinsi, dtype: int64"
            ]
          },
          "metadata": {},
          "execution_count": 41
        }
      ]
    },
    {
      "cell_type": "markdown",
      "source": [
        "#### Hapus kolom yang tidak diperlukan"
      ],
      "metadata": {
        "id": "kuLdmREs6srR"
      }
    },
    {
      "cell_type": "code",
      "execution_count": null,
      "metadata": {
        "id": "DTHvSH0AtZLC"
      },
      "outputs": [],
      "source": [
        "# Membuat list kolom yang akan dihapus\n",
        "kolom_yang_dihapus = ['created_at', 'username', 'device_id', 'device_version', 'home_country', 'event_id', 'id','booking_id', 'email', 'last_name', 'first_name', 'productDisplayName', 'customer_id', 'session_id',\n",
        "                      'shipment_location_long', 'shipment_location_lat', 'home_location_long', 'home_location_lat', 'product_id', 'subCategory', 'articleType', 'baseColour']\n",
        "data = data.drop(kolom_yang_dihapus, axis=1)"
      ]
    },
    {
      "cell_type": "code",
      "source": [
        "data.shape"
      ],
      "metadata": {
        "colab": {
          "base_uri": "https://localhost:8080/"
        },
        "id": "pfW_hhsXJGwN",
        "outputId": "efa57952-011b-49bd-a295-2edac73f6fe2"
      },
      "execution_count": null,
      "outputs": [
        {
          "output_type": "execute_result",
          "data": {
            "text/plain": [
              "(7794507, 25)"
            ]
          },
          "metadata": {},
          "execution_count": 34
        }
      ]
    },
    {
      "cell_type": "markdown",
      "source": [
        "#### Mengubah tipe data"
      ],
      "metadata": {
        "id": "7JBh-Cu56w_u"
      }
    },
    {
      "cell_type": "code",
      "source": [
        "# Mengubah tipe data pada kolom quantity dan item_price menjadi int64\n",
        "data['quantity'] = data['quantity'].astype(int)\n",
        "data['item_price'] = data['item_price'].astype(int)"
      ],
      "metadata": {
        "id": "E1W1slJn9wZv"
      },
      "execution_count": null,
      "outputs": []
    },
    {
      "cell_type": "code",
      "execution_count": null,
      "metadata": {
        "id": "FXRlBNsOZvlM",
        "colab": {
          "base_uri": "https://localhost:8080/"
        },
        "outputId": "b2bc0789-133b-41b8-a2aa-131a7d6f1d17"
      },
      "outputs": [
        {
          "output_type": "stream",
          "name": "stdout",
          "text": [
            "<class 'pandas.core.frame.DataFrame'>\n",
            "Int64Index: 7794507 entries, 539 to 20759545\n",
            "Data columns (total 25 columns):\n",
            " #   Column               Dtype         \n",
            "---  ------               -----         \n",
            " 0   payment_method       object        \n",
            " 1   payment_status       object        \n",
            " 2   promo_amount         int64         \n",
            " 3   promo_code           object        \n",
            " 4   shipment_fee         int64         \n",
            " 5   shipment_date_limit  datetime64[ns]\n",
            " 6   total_amount         int64         \n",
            " 7   gender_x             object        \n",
            " 8   device_type          object        \n",
            " 9   home_location        object        \n",
            " 10  event_name           object        \n",
            " 11  event_time           datetime64[ns]\n",
            " 12  traffic_source       object        \n",
            " 13  quantity             int64         \n",
            " 14  item_price           int64         \n",
            " 15  search_keywords      object        \n",
            " 16  gender_y             object        \n",
            " 17  masterCategory       object        \n",
            " 18  season               object        \n",
            " 19  year                 float64       \n",
            " 20  usage                object        \n",
            " 21  churn                int64         \n",
            " 22  age                  int64         \n",
            " 23  age_join             int64         \n",
            " 24  provinsi             object        \n",
            "dtypes: datetime64[ns](2), float64(1), int64(8), object(14)\n",
            "memory usage: 1.5+ GB\n"
          ]
        }
      ],
      "source": [
        "data.info()"
      ]
    },
    {
      "cell_type": "markdown",
      "source": [
        "### Missing Value"
      ],
      "metadata": {
        "id": "a73dOcYl67p1"
      }
    },
    {
      "cell_type": "code",
      "execution_count": null,
      "metadata": {
        "id": "1SLNCP72a_1q",
        "colab": {
          "base_uri": "https://localhost:8080/",
          "height": 206
        },
        "outputId": "ad1266f0-021a-484e-9552-22069a36d44a"
      },
      "outputs": [
        {
          "output_type": "execute_result",
          "data": {
            "text/plain": [
              "          feature  total_missing_value  percentage\n",
              "0           usage                60306        0.77\n",
              "1          season                 7993        0.10\n",
              "2            year                 4284        0.05\n",
              "3  masterCategory                 4169        0.05\n",
              "4        gender_y                 4169        0.05"
            ],
            "text/html": [
              "\n",
              "  <div id=\"df-60ba55bb-84c9-4e12-b400-8e75275f9f5a\" class=\"colab-df-container\">\n",
              "    <div>\n",
              "<style scoped>\n",
              "    .dataframe tbody tr th:only-of-type {\n",
              "        vertical-align: middle;\n",
              "    }\n",
              "\n",
              "    .dataframe tbody tr th {\n",
              "        vertical-align: top;\n",
              "    }\n",
              "\n",
              "    .dataframe thead th {\n",
              "        text-align: right;\n",
              "    }\n",
              "</style>\n",
              "<table border=\"1\" class=\"dataframe\">\n",
              "  <thead>\n",
              "    <tr style=\"text-align: right;\">\n",
              "      <th></th>\n",
              "      <th>feature</th>\n",
              "      <th>total_missing_value</th>\n",
              "      <th>percentage</th>\n",
              "    </tr>\n",
              "  </thead>\n",
              "  <tbody>\n",
              "    <tr>\n",
              "      <th>0</th>\n",
              "      <td>usage</td>\n",
              "      <td>60306</td>\n",
              "      <td>0.77</td>\n",
              "    </tr>\n",
              "    <tr>\n",
              "      <th>1</th>\n",
              "      <td>season</td>\n",
              "      <td>7993</td>\n",
              "      <td>0.10</td>\n",
              "    </tr>\n",
              "    <tr>\n",
              "      <th>2</th>\n",
              "      <td>year</td>\n",
              "      <td>4284</td>\n",
              "      <td>0.05</td>\n",
              "    </tr>\n",
              "    <tr>\n",
              "      <th>3</th>\n",
              "      <td>masterCategory</td>\n",
              "      <td>4169</td>\n",
              "      <td>0.05</td>\n",
              "    </tr>\n",
              "    <tr>\n",
              "      <th>4</th>\n",
              "      <td>gender_y</td>\n",
              "      <td>4169</td>\n",
              "      <td>0.05</td>\n",
              "    </tr>\n",
              "  </tbody>\n",
              "</table>\n",
              "</div>\n",
              "    <div class=\"colab-df-buttons\">\n",
              "\n",
              "  <div class=\"colab-df-container\">\n",
              "    <button class=\"colab-df-convert\" onclick=\"convertToInteractive('df-60ba55bb-84c9-4e12-b400-8e75275f9f5a')\"\n",
              "            title=\"Convert this dataframe to an interactive table.\"\n",
              "            style=\"display:none;\">\n",
              "\n",
              "  <svg xmlns=\"http://www.w3.org/2000/svg\" height=\"24px\" viewBox=\"0 -960 960 960\">\n",
              "    <path d=\"M120-120v-720h720v720H120Zm60-500h600v-160H180v160Zm220 220h160v-160H400v160Zm0 220h160v-160H400v160ZM180-400h160v-160H180v160Zm440 0h160v-160H620v160ZM180-180h160v-160H180v160Zm440 0h160v-160H620v160Z\"/>\n",
              "  </svg>\n",
              "    </button>\n",
              "\n",
              "  <style>\n",
              "    .colab-df-container {\n",
              "      display:flex;\n",
              "      gap: 12px;\n",
              "    }\n",
              "\n",
              "    .colab-df-convert {\n",
              "      background-color: #E8F0FE;\n",
              "      border: none;\n",
              "      border-radius: 50%;\n",
              "      cursor: pointer;\n",
              "      display: none;\n",
              "      fill: #1967D2;\n",
              "      height: 32px;\n",
              "      padding: 0 0 0 0;\n",
              "      width: 32px;\n",
              "    }\n",
              "\n",
              "    .colab-df-convert:hover {\n",
              "      background-color: #E2EBFA;\n",
              "      box-shadow: 0px 1px 2px rgba(60, 64, 67, 0.3), 0px 1px 3px 1px rgba(60, 64, 67, 0.15);\n",
              "      fill: #174EA6;\n",
              "    }\n",
              "\n",
              "    .colab-df-buttons div {\n",
              "      margin-bottom: 4px;\n",
              "    }\n",
              "\n",
              "    [theme=dark] .colab-df-convert {\n",
              "      background-color: #3B4455;\n",
              "      fill: #D2E3FC;\n",
              "    }\n",
              "\n",
              "    [theme=dark] .colab-df-convert:hover {\n",
              "      background-color: #434B5C;\n",
              "      box-shadow: 0px 1px 3px 1px rgba(0, 0, 0, 0.15);\n",
              "      filter: drop-shadow(0px 1px 2px rgba(0, 0, 0, 0.3));\n",
              "      fill: #FFFFFF;\n",
              "    }\n",
              "  </style>\n",
              "\n",
              "    <script>\n",
              "      const buttonEl =\n",
              "        document.querySelector('#df-60ba55bb-84c9-4e12-b400-8e75275f9f5a button.colab-df-convert');\n",
              "      buttonEl.style.display =\n",
              "        google.colab.kernel.accessAllowed ? 'block' : 'none';\n",
              "\n",
              "      async function convertToInteractive(key) {\n",
              "        const element = document.querySelector('#df-60ba55bb-84c9-4e12-b400-8e75275f9f5a');\n",
              "        const dataTable =\n",
              "          await google.colab.kernel.invokeFunction('convertToInteractive',\n",
              "                                                    [key], {});\n",
              "        if (!dataTable) return;\n",
              "\n",
              "        const docLinkHtml = 'Like what you see? Visit the ' +\n",
              "          '<a target=\"_blank\" href=https://colab.research.google.com/notebooks/data_table.ipynb>data table notebook</a>'\n",
              "          + ' to learn more about interactive tables.';\n",
              "        element.innerHTML = '';\n",
              "        dataTable['output_type'] = 'display_data';\n",
              "        await google.colab.output.renderOutput(dataTable, element);\n",
              "        const docLink = document.createElement('div');\n",
              "        docLink.innerHTML = docLinkHtml;\n",
              "        element.appendChild(docLink);\n",
              "      }\n",
              "    </script>\n",
              "  </div>\n",
              "\n",
              "\n",
              "<div id=\"df-52d91e6a-1c5c-4221-8def-0602a47aad71\">\n",
              "  <button class=\"colab-df-quickchart\" onclick=\"quickchart('df-52d91e6a-1c5c-4221-8def-0602a47aad71')\"\n",
              "            title=\"Suggest charts\"\n",
              "            style=\"display:none;\">\n",
              "\n",
              "<svg xmlns=\"http://www.w3.org/2000/svg\" height=\"24px\"viewBox=\"0 0 24 24\"\n",
              "     width=\"24px\">\n",
              "    <g>\n",
              "        <path d=\"M19 3H5c-1.1 0-2 .9-2 2v14c0 1.1.9 2 2 2h14c1.1 0 2-.9 2-2V5c0-1.1-.9-2-2-2zM9 17H7v-7h2v7zm4 0h-2V7h2v10zm4 0h-2v-4h2v4z\"/>\n",
              "    </g>\n",
              "</svg>\n",
              "  </button>\n",
              "\n",
              "<style>\n",
              "  .colab-df-quickchart {\n",
              "      --bg-color: #E8F0FE;\n",
              "      --fill-color: #1967D2;\n",
              "      --hover-bg-color: #E2EBFA;\n",
              "      --hover-fill-color: #174EA6;\n",
              "      --disabled-fill-color: #AAA;\n",
              "      --disabled-bg-color: #DDD;\n",
              "  }\n",
              "\n",
              "  [theme=dark] .colab-df-quickchart {\n",
              "      --bg-color: #3B4455;\n",
              "      --fill-color: #D2E3FC;\n",
              "      --hover-bg-color: #434B5C;\n",
              "      --hover-fill-color: #FFFFFF;\n",
              "      --disabled-bg-color: #3B4455;\n",
              "      --disabled-fill-color: #666;\n",
              "  }\n",
              "\n",
              "  .colab-df-quickchart {\n",
              "    background-color: var(--bg-color);\n",
              "    border: none;\n",
              "    border-radius: 50%;\n",
              "    cursor: pointer;\n",
              "    display: none;\n",
              "    fill: var(--fill-color);\n",
              "    height: 32px;\n",
              "    padding: 0;\n",
              "    width: 32px;\n",
              "  }\n",
              "\n",
              "  .colab-df-quickchart:hover {\n",
              "    background-color: var(--hover-bg-color);\n",
              "    box-shadow: 0 1px 2px rgba(60, 64, 67, 0.3), 0 1px 3px 1px rgba(60, 64, 67, 0.15);\n",
              "    fill: var(--button-hover-fill-color);\n",
              "  }\n",
              "\n",
              "  .colab-df-quickchart-complete:disabled,\n",
              "  .colab-df-quickchart-complete:disabled:hover {\n",
              "    background-color: var(--disabled-bg-color);\n",
              "    fill: var(--disabled-fill-color);\n",
              "    box-shadow: none;\n",
              "  }\n",
              "\n",
              "  .colab-df-spinner {\n",
              "    border: 2px solid var(--fill-color);\n",
              "    border-color: transparent;\n",
              "    border-bottom-color: var(--fill-color);\n",
              "    animation:\n",
              "      spin 1s steps(1) infinite;\n",
              "  }\n",
              "\n",
              "  @keyframes spin {\n",
              "    0% {\n",
              "      border-color: transparent;\n",
              "      border-bottom-color: var(--fill-color);\n",
              "      border-left-color: var(--fill-color);\n",
              "    }\n",
              "    20% {\n",
              "      border-color: transparent;\n",
              "      border-left-color: var(--fill-color);\n",
              "      border-top-color: var(--fill-color);\n",
              "    }\n",
              "    30% {\n",
              "      border-color: transparent;\n",
              "      border-left-color: var(--fill-color);\n",
              "      border-top-color: var(--fill-color);\n",
              "      border-right-color: var(--fill-color);\n",
              "    }\n",
              "    40% {\n",
              "      border-color: transparent;\n",
              "      border-right-color: var(--fill-color);\n",
              "      border-top-color: var(--fill-color);\n",
              "    }\n",
              "    60% {\n",
              "      border-color: transparent;\n",
              "      border-right-color: var(--fill-color);\n",
              "    }\n",
              "    80% {\n",
              "      border-color: transparent;\n",
              "      border-right-color: var(--fill-color);\n",
              "      border-bottom-color: var(--fill-color);\n",
              "    }\n",
              "    90% {\n",
              "      border-color: transparent;\n",
              "      border-bottom-color: var(--fill-color);\n",
              "    }\n",
              "  }\n",
              "</style>\n",
              "\n",
              "  <script>\n",
              "    async function quickchart(key) {\n",
              "      const quickchartButtonEl =\n",
              "        document.querySelector('#' + key + ' button');\n",
              "      quickchartButtonEl.disabled = true;  // To prevent multiple clicks.\n",
              "      quickchartButtonEl.classList.add('colab-df-spinner');\n",
              "      try {\n",
              "        const charts = await google.colab.kernel.invokeFunction(\n",
              "            'suggestCharts', [key], {});\n",
              "      } catch (error) {\n",
              "        console.error('Error during call to suggestCharts:', error);\n",
              "      }\n",
              "      quickchartButtonEl.classList.remove('colab-df-spinner');\n",
              "      quickchartButtonEl.classList.add('colab-df-quickchart-complete');\n",
              "    }\n",
              "    (() => {\n",
              "      let quickchartButtonEl =\n",
              "        document.querySelector('#df-52d91e6a-1c5c-4221-8def-0602a47aad71 button');\n",
              "      quickchartButtonEl.style.display =\n",
              "        google.colab.kernel.accessAllowed ? 'block' : 'none';\n",
              "    })();\n",
              "  </script>\n",
              "</div>\n",
              "    </div>\n",
              "  </div>\n"
            ]
          },
          "metadata": {},
          "execution_count": 29
        }
      ],
      "source": [
        "# Cek missing value (>0%)\n",
        "data_missing_value = data.isnull().sum().reset_index()\n",
        "data_missing_value.columns = ['feature','total_missing_value']\n",
        "data_missing_value['percentage'] = round((data_missing_value['total_missing_value']/len(data))*100,2)\n",
        "data_missing_value = data_missing_value.sort_values('percentage', ascending=False).reset_index(drop=True)\n",
        "data_missing_value = data_missing_value[data_missing_value['percentage']>0]\n",
        "data_missing_value"
      ]
    },
    {
      "cell_type": "markdown",
      "source": [
        "Terdapat 5 kolom yang memiliki missing value"
      ],
      "metadata": {
        "id": "l_pO9h7O7Jf5"
      }
    },
    {
      "cell_type": "markdown",
      "metadata": {
        "id": "1yoNiZiMvknY"
      },
      "source": [
        "Handling missing value:\n",
        "\n",
        "*   Apabila data numeric, missing value bisa diisi dengan mean atau median, tergantung dengan skew nya\n",
        "*   Apabila data categoric, missing value bisa diisi dengan modus\n",
        "\n",
        "\n"
      ]
    },
    {
      "cell_type": "code",
      "execution_count": null,
      "metadata": {
        "id": "QadAmIIP0aWs"
      },
      "outputs": [],
      "source": [
        "# Mengisi missing value pada data Categoric\n",
        "col_object = data.select_dtypes(include = [\"object\"]).columns\n",
        "for col in col_object :\n",
        "  data[col] = data[col].fillna(data[col].mode().iloc[0])"
      ]
    },
    {
      "cell_type": "code",
      "execution_count": null,
      "metadata": {
        "id": "-LVAF8Q1hXPr"
      },
      "outputs": [],
      "source": [
        "# Mengisi missing value pada data numerik\n",
        "col_numeric = data.select_dtypes(exclude=[\"object\", \"datetime64\"]).columns\n",
        "for i in col_numeric :\n",
        "  if data[i].skew() > 0:\n",
        "    data[i] = data[i].fillna(data[i].mean())\n",
        "  else :\n",
        "    data[i] = data[i].fillna(data[i].median())"
      ]
    },
    {
      "cell_type": "code",
      "execution_count": null,
      "metadata": {
        "id": "aHkCUkaDK2dY",
        "colab": {
          "base_uri": "https://localhost:8080/"
        },
        "outputId": "3fd18b8f-c57f-444b-b2a7-cb9de736d41e"
      },
      "outputs": [
        {
          "output_type": "execute_result",
          "data": {
            "text/plain": [
              "payment_method         0\n",
              "payment_status         0\n",
              "promo_amount           0\n",
              "promo_code             0\n",
              "shipment_fee           0\n",
              "shipment_date_limit    0\n",
              "total_amount           0\n",
              "gender_x               0\n",
              "device_type            0\n",
              "home_location          0\n",
              "event_name             0\n",
              "event_time             0\n",
              "traffic_source         0\n",
              "quantity               0\n",
              "item_price             0\n",
              "search_keywords        0\n",
              "gender_y               0\n",
              "masterCategory         0\n",
              "season                 0\n",
              "year                   0\n",
              "usage                  0\n",
              "churn                  0\n",
              "age                    0\n",
              "age_join               0\n",
              "provinsi               0\n",
              "dtype: int64"
            ]
          },
          "metadata": {},
          "execution_count": 46
        }
      ],
      "source": [
        "# Mengecek ulang missing value\n",
        "data.isnull().sum()"
      ]
    },
    {
      "cell_type": "code",
      "execution_count": null,
      "metadata": {
        "id": "TI8H0Ivzn3c3",
        "colab": {
          "base_uri": "https://localhost:8080/"
        },
        "outputId": "fc946fff-a2b6-4551-98d5-8f6a91ca9021"
      },
      "outputs": [
        {
          "output_type": "execute_result",
          "data": {
            "text/plain": [
              "(7794507, 24)"
            ]
          },
          "metadata": {},
          "execution_count": 46
        }
      ],
      "source": [
        "data.shape"
      ]
    },
    {
      "cell_type": "markdown",
      "source": [
        "### Duplicate"
      ],
      "metadata": {
        "id": "o-9G1CrS7lph"
      }
    },
    {
      "cell_type": "code",
      "execution_count": null,
      "metadata": {
        "id": "abhYr828zf8U",
        "colab": {
          "base_uri": "https://localhost:8080/"
        },
        "outputId": "68baa1df-1639-4fbd-a322-6062236fc986"
      },
      "outputs": [
        {
          "output_type": "execute_result",
          "data": {
            "text/plain": [
              "2946419"
            ]
          },
          "metadata": {},
          "execution_count": 35
        }
      ],
      "source": [
        "# Cek duplikat data\n",
        "data.duplicated().sum()"
      ]
    },
    {
      "cell_type": "markdown",
      "source": [
        "Terdapat 2946419 baris yang terindikasi duplikat, sehingga baris tersebut bisa didrop (dihapus)"
      ],
      "metadata": {
        "id": "R97cKJba7qyV"
      }
    },
    {
      "cell_type": "code",
      "execution_count": null,
      "metadata": {
        "id": "NE_qOuhjnz5_"
      },
      "outputs": [],
      "source": [
        "# Drop data yang terindikasi duplikat\n",
        "data = data.drop_duplicates()"
      ]
    },
    {
      "cell_type": "code",
      "source": [
        "# Recheck duplikat data\n",
        "data.duplicated().sum()"
      ],
      "metadata": {
        "colab": {
          "base_uri": "https://localhost:8080/"
        },
        "id": "Iu99ARxmM0LG",
        "outputId": "1e4f75c2-ed9a-466e-9f96-183bb172bd0a"
      },
      "execution_count": null,
      "outputs": [
        {
          "output_type": "execute_result",
          "data": {
            "text/plain": [
              "0"
            ]
          },
          "metadata": {},
          "execution_count": 34
        }
      ]
    },
    {
      "cell_type": "code",
      "execution_count": null,
      "metadata": {
        "id": "jgFBDh5YoOTj",
        "colab": {
          "base_uri": "https://localhost:8080/"
        },
        "outputId": "01abe862-dc8e-4759-fe60-af6c0f2027fe"
      },
      "outputs": [
        {
          "output_type": "execute_result",
          "data": {
            "text/plain": [
              "(4848088, 25)"
            ]
          },
          "metadata": {},
          "execution_count": 42
        }
      ],
      "source": [
        "data.shape"
      ]
    },
    {
      "cell_type": "code",
      "execution_count": null,
      "metadata": {
        "id": "RquKZr10okOR",
        "colab": {
          "base_uri": "https://localhost:8080/"
        },
        "outputId": "85213109-30d3-4959-8305-8501a461e1b8"
      },
      "outputs": [
        {
          "output_type": "stream",
          "name": "stderr",
          "text": [
            "<ipython-input-33-fa8e5aec4fc5>:2: SettingWithCopyWarning: \n",
            "A value is trying to be set on a copy of a slice from a DataFrame.\n",
            "Try using .loc[row_indexer,col_indexer] = value instead\n",
            "\n",
            "See the caveats in the documentation: https://pandas.pydata.org/pandas-docs/stable/user_guide/indexing.html#returning-a-view-versus-a-copy\n",
            "  data['year'] = data['year'].astype(int)\n"
          ]
        }
      ],
      "source": [
        "# Mengubah tipe data kolom 'year'\n",
        "data['year'] = data['year'].astype(int)"
      ]
    },
    {
      "cell_type": "markdown",
      "source": [
        "### Outlier"
      ],
      "metadata": {
        "id": "NInmohRn74KT"
      }
    },
    {
      "cell_type": "code",
      "execution_count": null,
      "metadata": {
        "id": "KslRjDjCiOJP",
        "colab": {
          "base_uri": "https://localhost:8080/",
          "height": 1000
        },
        "outputId": "b27fa993-ff6d-4d3e-e375-a9b63b08781e"
      },
      "outputs": [
        {
          "output_type": "execute_result",
          "data": {
            "text/plain": [
              "<Axes: >"
            ]
          },
          "metadata": {},
          "execution_count": 51
        },
        {
          "output_type": "display_data",
          "data": {
            "text/plain": [
              "<Figure size 4000x4000 with 1 Axes>"
            ],
            "image/png": "[encoded data removed]"
          },
          "metadata": {}
        }
      ],
      "source": [
        "# Menampilkan boxplot untuk mengecek outlier\n",
        "fig, ax = plt.subplots(figsize=(40,40))\n",
        "sns.boxplot(data=data)"
      ]
    },
    {
      "cell_type": "markdown",
      "source": [
        "Terdapat outlier pada kolom total_amount dan item_price, namun adanya outlier ini akan dianggap sebagai kewajaran\n",
        "\n",
        "\n"
      ],
      "metadata": {
        "id": "J8L99YGC7-xe"
      }
    },
    {
      "cell_type": "markdown",
      "metadata": {
        "id": "TxP5BrZxF_8g"
      },
      "source": [
        "###Export Data"
      ]
    },
    {
      "cell_type": "code",
      "execution_count": null,
      "metadata": {
        "colab": {
          "base_uri": "https://localhost:8080/",
          "height": 429
        },
        "id": "9a02zJFlCkZm",
        "outputId": "5af6a431-c7cc-42f9-d612-6340608aeeb6"
      },
      "outputs": [
        {
          "output_type": "execute_result",
          "data": {
            "text/plain": [
              "    payment_method payment_status  promo_amount                    promo_code  \\\n",
              "539    Credit Card        Success             0  tidak menggunakan promo code   \n",
              "540    Credit Card        Success             0  tidak menggunakan promo code   \n",
              "541    Credit Card        Success             0  tidak menggunakan promo code   \n",
              "542    Credit Card        Success             0  tidak menggunakan promo code   \n",
              "543    Credit Card        Success             0  tidak menggunakan promo code   \n",
              "\n",
              "     shipment_fee shipment_date_limit  total_amount gender_x device_type  \\\n",
              "539         10000          2021-09-05       2091956        F     Android   \n",
              "540         10000          2021-09-05       2091956        F     Android   \n",
              "541         10000          2021-09-05       2091956        F     Android   \n",
              "542         10000          2021-09-05       2091956        F     Android   \n",
              "543         10000          2021-09-05       2091956        F     Android   \n",
              "\n",
              "        home_location  ...         search_keywords gender_y masterCategory  \\\n",
              "539  Sulawesi Selatan  ...  tidak melakukan search      Men        Apparel   \n",
              "540  Sulawesi Selatan  ...  tidak melakukan search      Men       Footwear   \n",
              "541  Sulawesi Selatan  ...  tidak melakukan search      Men        Apparel   \n",
              "542  Sulawesi Selatan  ...  tidak melakukan search      Men       Footwear   \n",
              "543  Sulawesi Selatan  ...  tidak melakukan search      Men        Apparel   \n",
              "\n",
              "     season  year   usage churn age age_join  provinsi  \n",
              "539    Fall  2011  Casual     1  27        5    Tengah  \n",
              "540  Summer  2012  Sports     1  27        5    Tengah  \n",
              "541    Fall  2011  Casual     1  27        5    Tengah  \n",
              "542  Summer  2012  Sports     1  27        5    Tengah  \n",
              "543    Fall  2011  Casual     1  27        5    Tengah  \n",
              "\n",
              "[5 rows x 25 columns]"
            ],
            "text/html": [
              "\n",
              "  <div id=\"df-fc1ff10a-41d3-49c9-9720-ea5cd106e4b9\" class=\"colab-df-container\">\n",
              "    <div>\n",
              "<style scoped>\n",
              "    .dataframe tbody tr th:only-of-type {\n",
              "        vertical-align: middle;\n",
              "    }\n",
              "\n",
              "    .dataframe tbody tr th {\n",
              "        vertical-align: top;\n",
              "    }\n",
              "\n",
              "    .dataframe thead th {\n",
              "        text-align: right;\n",
              "    }\n",
              "</style>\n",
              "<table border=\"1\" class=\"dataframe\">\n",
              "  <thead>\n",
              "    <tr style=\"text-align: right;\">\n",
              "      <th></th>\n",
              "      <th>payment_method</th>\n",
              "      <th>payment_status</th>\n",
              "      <th>promo_amount</th>\n",
              "      <th>promo_code</th>\n",
              "      <th>shipment_fee</th>\n",
              "      <th>shipment_date_limit</th>\n",
              "      <th>total_amount</th>\n",
              "      <th>gender_x</th>\n",
              "      <th>device_type</th>\n",
              "      <th>home_location</th>\n",
              "      <th>...</th>\n",
              "      <th>search_keywords</th>\n",
              "      <th>gender_y</th>\n",
              "      <th>masterCategory</th>\n",
              "      <th>season</th>\n",
              "      <th>year</th>\n",
              "      <th>usage</th>\n",
              "      <th>churn</th>\n",
              "      <th>age</th>\n",
              "      <th>age_join</th>\n",
              "      <th>provinsi</th>\n",
              "    </tr>\n",
              "  </thead>\n",
              "  <tbody>\n",
              "    <tr>\n",
              "      <th>539</th>\n",
              "      <td>Credit Card</td>\n",
              "      <td>Success</td>\n",
              "      <td>0</td>\n",
              "      <td>tidak menggunakan promo code</td>\n",
              "      <td>10000</td>\n",
              "      <td>2021-09-05</td>\n",
              "      <td>2091956</td>\n",
              "      <td>F</td>\n",
              "      <td>Android</td>\n",
              "      <td>Sulawesi Selatan</td>\n",
              "      <td>...</td>\n",
              "      <td>tidak melakukan search</td>\n",
              "      <td>Men</td>\n",
              "      <td>Apparel</td>\n",
              "      <td>Fall</td>\n",
              "      <td>2011</td>\n",
              "      <td>Casual</td>\n",
              "      <td>1</td>\n",
              "      <td>27</td>\n",
              "      <td>5</td>\n",
              "      <td>Tengah</td>\n",
              "    </tr>\n",
              "    <tr>\n",
              "      <th>540</th>\n",
              "      <td>Credit Card</td>\n",
              "      <td>Success</td>\n",
              "      <td>0</td>\n",
              "      <td>tidak menggunakan promo code</td>\n",
              "      <td>10000</td>\n",
              "      <td>2021-09-05</td>\n",
              "      <td>2091956</td>\n",
              "      <td>F</td>\n",
              "      <td>Android</td>\n",
              "      <td>Sulawesi Selatan</td>\n",
              "      <td>...</td>\n",
              "      <td>tidak melakukan search</td>\n",
              "      <td>Men</td>\n",
              "      <td>Footwear</td>\n",
              "      <td>Summer</td>\n",
              "      <td>2012</td>\n",
              "      <td>Sports</td>\n",
              "      <td>1</td>\n",
              "      <td>27</td>\n",
              "      <td>5</td>\n",
              "      <td>Tengah</td>\n",
              "    </tr>\n",
              "    <tr>\n",
              "      <th>541</th>\n",
              "      <td>Credit Card</td>\n",
              "      <td>Success</td>\n",
              "      <td>0</td>\n",
              "      <td>tidak menggunakan promo code</td>\n",
              "      <td>10000</td>\n",
              "      <td>2021-09-05</td>\n",
              "      <td>2091956</td>\n",
              "      <td>F</td>\n",
              "      <td>Android</td>\n",
              "      <td>Sulawesi Selatan</td>\n",
              "      <td>...</td>\n",
              "      <td>tidak melakukan search</td>\n",
              "      <td>Men</td>\n",
              "      <td>Apparel</td>\n",
              "      <td>Fall</td>\n",
              "      <td>2011</td>\n",
              "      <td>Casual</td>\n",
              "      <td>1</td>\n",
              "      <td>27</td>\n",
              "      <td>5</td>\n",
              "      <td>Tengah</td>\n",
              "    </tr>\n",
              "    <tr>\n",
              "      <th>542</th>\n",
              "      <td>Credit Card</td>\n",
              "      <td>Success</td>\n",
              "      <td>0</td>\n",
              "      <td>tidak menggunakan promo code</td>\n",
              "      <td>10000</td>\n",
              "      <td>2021-09-05</td>\n",
              "      <td>2091956</td>\n",
              "      <td>F</td>\n",
              "      <td>Android</td>\n",
              "      <td>Sulawesi Selatan</td>\n",
              "      <td>...</td>\n",
              "      <td>tidak melakukan search</td>\n",
              "      <td>Men</td>\n",
              "      <td>Footwear</td>\n",
              "      <td>Summer</td>\n",
              "      <td>2012</td>\n",
              "      <td>Sports</td>\n",
              "      <td>1</td>\n",
              "      <td>27</td>\n",
              "      <td>5</td>\n",
              "      <td>Tengah</td>\n",
              "    </tr>\n",
              "    <tr>\n",
              "      <th>543</th>\n",
              "      <td>Credit Card</td>\n",
              "      <td>Success</td>\n",
              "      <td>0</td>\n",
              "      <td>tidak menggunakan promo code</td>\n",
              "      <td>10000</td>\n",
              "      <td>2021-09-05</td>\n",
              "      <td>2091956</td>\n",
              "      <td>F</td>\n",
              "      <td>Android</td>\n",
              "      <td>Sulawesi Selatan</td>\n",
              "      <td>...</td>\n",
              "      <td>tidak melakukan search</td>\n",
              "      <td>Men</td>\n",
              "      <td>Apparel</td>\n",
              "      <td>Fall</td>\n",
              "      <td>2011</td>\n",
              "      <td>Casual</td>\n",
              "      <td>1</td>\n",
              "      <td>27</td>\n",
              "      <td>5</td>\n",
              "      <td>Tengah</td>\n",
              "    </tr>\n",
              "  </tbody>\n",
              "</table>\n",
              "<p>5 rows × 25 columns</p>\n",
              "</div>\n",
              "    <div class=\"colab-df-buttons\">\n",
              "\n",
              "  <div class=\"colab-df-container\">\n",
              "    <button class=\"colab-df-convert\" onclick=\"convertToInteractive('df-fc1ff10a-41d3-49c9-9720-ea5cd106e4b9')\"\n",
              "            title=\"Convert this dataframe to an interactive table.\"\n",
              "            style=\"display:none;\">\n",
              "\n",
              "  <svg xmlns=\"http://www.w3.org/2000/svg\" height=\"24px\" viewBox=\"0 -960 960 960\">\n",
              "    <path d=\"M120-120v-720h720v720H120Zm60-500h600v-160H180v160Zm220 220h160v-160H400v160Zm0 220h160v-160H400v160ZM180-400h160v-160H180v160Zm440 0h160v-160H620v160ZM180-180h160v-160H180v160Zm440 0h160v-160H620v160Z\"/>\n",
              "  </svg>\n",
              "    </button>\n",
              "\n",
              "  <style>\n",
              "    .colab-df-container {\n",
              "      display:flex;\n",
              "      gap: 12px;\n",
              "    }\n",
              "\n",
              "    .colab-df-convert {\n",
              "      background-color: #E8F0FE;\n",
              "      border: none;\n",
              "      border-radius: 50%;\n",
              "      cursor: pointer;\n",
              "      display: none;\n",
              "      fill: #1967D2;\n",
              "      height: 32px;\n",
              "      padding: 0 0 0 0;\n",
              "      width: 32px;\n",
              "    }\n",
              "\n",
              "    .colab-df-convert:hover {\n",
              "      background-color: #E2EBFA;\n",
              "      box-shadow: 0px 1px 2px rgba(60, 64, 67, 0.3), 0px 1px 3px 1px rgba(60, 64, 67, 0.15);\n",
              "      fill: #174EA6;\n",
              "    }\n",
              "\n",
              "    .colab-df-buttons div {\n",
              "      margin-bottom: 4px;\n",
              "    }\n",
              "\n",
              "    [theme=dark] .colab-df-convert {\n",
              "      background-color: #3B4455;\n",
              "      fill: #D2E3FC;\n",
              "    }\n",
              "\n",
              "    [theme=dark] .colab-df-convert:hover {\n",
              "      background-color: #434B5C;\n",
              "      box-shadow: 0px 1px 3px 1px rgba(0, 0, 0, 0.15);\n",
              "      filter: drop-shadow(0px 1px 2px rgba(0, 0, 0, 0.3));\n",
              "      fill: #FFFFFF;\n",
              "    }\n",
              "  </style>\n",
              "\n",
              "    <script>\n",
              "      const buttonEl =\n",
              "        document.querySelector('#df-fc1ff10a-41d3-49c9-9720-ea5cd106e4b9 button.colab-df-convert');\n",
              "      buttonEl.style.display =\n",
              "        google.colab.kernel.accessAllowed ? 'block' : 'none';\n",
              "\n",
              "      async function convertToInteractive(key) {\n",
              "        const element = document.querySelector('#df-fc1ff10a-41d3-49c9-9720-ea5cd106e4b9');\n",
              "        const dataTable =\n",
              "          await google.colab.kernel.invokeFunction('convertToInteractive',\n",
              "                                                    [key], {});\n",
              "        if (!dataTable) return;\n",
              "\n",
              "        const docLinkHtml = 'Like what you see? Visit the ' +\n",
              "          '<a target=\"_blank\" href=https://colab.research.google.com/notebooks/data_table.ipynb>data table notebook</a>'\n",
              "          + ' to learn more about interactive tables.';\n",
              "        element.innerHTML = '';\n",
              "        dataTable['output_type'] = 'display_data';\n",
              "        await google.colab.output.renderOutput(dataTable, element);\n",
              "        const docLink = document.createElement('div');\n",
              "        docLink.innerHTML = docLinkHtml;\n",
              "        element.appendChild(docLink);\n",
              "      }\n",
              "    </script>\n",
              "  </div>\n",
              "\n",
              "\n",
              "<div id=\"df-75b11e56-2342-4294-aaaf-8f5b6178b4fa\">\n",
              "  <button class=\"colab-df-quickchart\" onclick=\"quickchart('df-75b11e56-2342-4294-aaaf-8f5b6178b4fa')\"\n",
              "            title=\"Suggest charts\"\n",
              "            style=\"display:none;\">\n",
              "\n",
              "<svg xmlns=\"http://www.w3.org/2000/svg\" height=\"24px\"viewBox=\"0 0 24 24\"\n",
              "     width=\"24px\">\n",
              "    <g>\n",
              "        <path d=\"M19 3H5c-1.1 0-2 .9-2 2v14c0 1.1.9 2 2 2h14c1.1 0 2-.9 2-2V5c0-1.1-.9-2-2-2zM9 17H7v-7h2v7zm4 0h-2V7h2v10zm4 0h-2v-4h2v4z\"/>\n",
              "    </g>\n",
              "</svg>\n",
              "  </button>\n",
              "\n",
              "<style>\n",
              "  .colab-df-quickchart {\n",
              "      --bg-color: #E8F0FE;\n",
              "      --fill-color: #1967D2;\n",
              "      --hover-bg-color: #E2EBFA;\n",
              "      --hover-fill-color: #174EA6;\n",
              "      --disabled-fill-color: #AAA;\n",
              "      --disabled-bg-color: #DDD;\n",
              "  }\n",
              "\n",
              "  [theme=dark] .colab-df-quickchart {\n",
              "      --bg-color: #3B4455;\n",
              "      --fill-color: #D2E3FC;\n",
              "      --hover-bg-color: #434B5C;\n",
              "      --hover-fill-color: #FFFFFF;\n",
              "      --disabled-bg-color: #3B4455;\n",
              "      --disabled-fill-color: #666;\n",
              "  }\n",
              "\n",
              "  .colab-df-quickchart {\n",
              "    background-color: var(--bg-color);\n",
              "    border: none;\n",
              "    border-radius: 50%;\n",
              "    cursor: pointer;\n",
              "    display: none;\n",
              "    fill: var(--fill-color);\n",
              "    height: 32px;\n",
              "    padding: 0;\n",
              "    width: 32px;\n",
              "  }\n",
              "\n",
              "  .colab-df-quickchart:hover {\n",
              "    background-color: var(--hover-bg-color);\n",
              "    box-shadow: 0 1px 2px rgba(60, 64, 67, 0.3), 0 1px 3px 1px rgba(60, 64, 67, 0.15);\n",
              "    fill: var(--button-hover-fill-color);\n",
              "  }\n",
              "\n",
              "  .colab-df-quickchart-complete:disabled,\n",
              "  .colab-df-quickchart-complete:disabled:hover {\n",
              "    background-color: var(--disabled-bg-color);\n",
              "    fill: var(--disabled-fill-color);\n",
              "    box-shadow: none;\n",
              "  }\n",
              "\n",
              "  .colab-df-spinner {\n",
              "    border: 2px solid var(--fill-color);\n",
              "    border-color: transparent;\n",
              "    border-bottom-color: var(--fill-color);\n",
              "    animation:\n",
              "      spin 1s steps(1) infinite;\n",
              "  }\n",
              "\n",
              "  @keyframes spin {\n",
              "    0% {\n",
              "      border-color: transparent;\n",
              "      border-bottom-color: var(--fill-color);\n",
              "      border-left-color: var(--fill-color);\n",
              "    }\n",
              "    20% {\n",
              "      border-color: transparent;\n",
              "      border-left-color: var(--fill-color);\n",
              "      border-top-color: var(--fill-color);\n",
              "    }\n",
              "    30% {\n",
              "      border-color: transparent;\n",
              "      border-left-color: var(--fill-color);\n",
              "      border-top-color: var(--fill-color);\n",
              "      border-right-color: var(--fill-color);\n",
              "    }\n",
              "    40% {\n",
              "      border-color: transparent;\n",
              "      border-right-color: var(--fill-color);\n",
              "      border-top-color: var(--fill-color);\n",
              "    }\n",
              "    60% {\n",
              "      border-color: transparent;\n",
              "      border-right-color: var(--fill-color);\n",
              "    }\n",
              "    80% {\n",
              "      border-color: transparent;\n",
              "      border-right-color: var(--fill-color);\n",
              "      border-bottom-color: var(--fill-color);\n",
              "    }\n",
              "    90% {\n",
              "      border-color: transparent;\n",
              "      border-bottom-color: var(--fill-color);\n",
              "    }\n",
              "  }\n",
              "</style>\n",
              "\n",
              "  <script>\n",
              "    async function quickchart(key) {\n",
              "      const quickchartButtonEl =\n",
              "        document.querySelector('#' + key + ' button');\n",
              "      quickchartButtonEl.disabled = true;  // To prevent multiple clicks.\n",
              "      quickchartButtonEl.classList.add('colab-df-spinner');\n",
              "      try {\n",
              "        const charts = await google.colab.kernel.invokeFunction(\n",
              "            'suggestCharts', [key], {});\n",
              "      } catch (error) {\n",
              "        console.error('Error during call to suggestCharts:', error);\n",
              "      }\n",
              "      quickchartButtonEl.classList.remove('colab-df-spinner');\n",
              "      quickchartButtonEl.classList.add('colab-df-quickchart-complete');\n",
              "    }\n",
              "    (() => {\n",
              "      let quickchartButtonEl =\n",
              "        document.querySelector('#df-75b11e56-2342-4294-aaaf-8f5b6178b4fa button');\n",
              "      quickchartButtonEl.style.display =\n",
              "        google.colab.kernel.accessAllowed ? 'block' : 'none';\n",
              "    })();\n",
              "  </script>\n",
              "</div>\n",
              "    </div>\n",
              "  </div>\n"
            ]
          },
          "metadata": {},
          "execution_count": 34
        }
      ],
      "source": [
        "#Copy data\n",
        "df_bi = data.copy()\n",
        "df_bi.head()"
      ]
    },
    {
      "cell_type": "code",
      "execution_count": null,
      "metadata": {
        "colab": {
          "base_uri": "https://localhost:8080/"
        },
        "id": "-O6Ue0uyCtyB",
        "outputId": "94059bb5-45ec-41d7-cbef-96ff495d64b9"
      },
      "outputs": [
        {
          "data": {
            "text/plain": [
              "(13893676, 34)"
            ]
          },
          "execution_count": 36,
          "metadata": {},
          "output_type": "execute_result"
        }
      ],
      "source": [
        "# Export Clean Data\n",
        "df_bi.to_csv('/content/drive/MyDrive/dataset/eiren_clean.csv', index=False)\n",
        "df_bi.shape"
      ]
    },
    {
      "cell_type": "markdown",
      "metadata": {
        "id": "6WBdGx8KGf_4"
      },
      "source": [
        "##Data Analysis & Visualizing"
      ]
    },
    {
      "cell_type": "markdown",
      "metadata": {
        "id": "5tl5w6ycGkwV"
      },
      "source": [
        "###Univariate Analysis"
      ]
    },
    {
      "cell_type": "markdown",
      "metadata": {
        "id": "OAqTwGATVpcH"
      },
      "source": [
        "####Gender Customer"
      ]
    },
    {
      "cell_type": "code",
      "execution_count": null,
      "metadata": {
        "colab": {
          "base_uri": "https://localhost:8080/",
          "height": 451
        },
        "id": "sneieKokVuiY",
        "outputId": "4de49f5f-0ec3-4eba-9008-daee7546b33a"
      },
      "outputs": [
        {
          "data": {
            "image/png": "[encoded data removed]",
            "text/plain": [
              "<Figure size 640x480 with 1 Axes>"
            ]
          },
          "metadata": {},
          "output_type": "display_data"
        }
      ],
      "source": [
        "# Jumlah setiap gender customer\n",
        "plt.title(\"Tipe Gender Customer\", fontsize=14, weight=\"bold\")\n",
        "df_bi[\"gender_x\"].value_counts().plot.bar();"
      ]
    },
    {
      "cell_type": "code",
      "execution_count": null,
      "metadata": {
        "colab": {
          "base_uri": "https://localhost:8080/"
        },
        "id": "pugnRhNxV_dY",
        "outputId": "544ef47e-abb4-4d00-cbdf-af0b0decc8e9"
      },
      "outputs": [
        {
          "data": {
            "text/plain": [
              "F    8842223\n",
              "M    5051453\n",
              "Name: gender_x, dtype: int64"
            ]
          },
          "execution_count": 50,
          "metadata": {},
          "output_type": "execute_result"
        }
      ],
      "source": [
        "# Jumlah setiap gender customer\n",
        "df_bi[\"gender_x\"].value_counts()"
      ]
    },
    {
      "cell_type": "markdown",
      "source": [
        "Interpretasi : dari barplot, mayoritas customer adalah bergender perempuan dibandinkan laki-laki"
      ],
      "metadata": {
        "id": "7LuuAjw8DiuJ"
      }
    },
    {
      "cell_type": "markdown",
      "metadata": {
        "id": "D99XEZFyWOIv"
      },
      "source": [
        "####Lokasi Tempat Tinggal"
      ]
    },
    {
      "cell_type": "code",
      "execution_count": null,
      "metadata": {
        "colab": {
          "base_uri": "https://localhost:8080/",
          "height": 489
        },
        "id": "fN71D-tsW8AI",
        "outputId": "b2af0d39-e660-43da-e5d9-d871721c8296"
      },
      "outputs": [
        {
          "output_type": "display_data",
          "data": {
            "text/plain": [
              "<Figure size 640x480 with 1 Axes>"
            ],
            "image/png": "[encoded data removed]"
          },
          "metadata": {}
        }
      ],
      "source": [
        "# Jumlah wilayah tempat tinggal customer\n",
        "plt.title(\"Wilayah Tempat Tinggal Customer\", fontsize=14, weight=\"bold\")\n",
        "df_bi[\"provinsi\"].value_counts().plot.bar();"
      ]
    },
    {
      "cell_type": "code",
      "source": [
        "# Jumlah wilayah tempat tinggal customer\n",
        "df_bi[\"provinsi\"].value_counts()"
      ],
      "metadata": {
        "colab": {
          "base_uri": "https://localhost:8080/"
        },
        "id": "WFyaEIOyNBC5",
        "outputId": "78267ca2-ddd3-4e01-9632-fd92a797cdb6"
      },
      "execution_count": null,
      "outputs": [
        {
          "output_type": "execute_result",
          "data": {
            "text/plain": [
              "Barat     3338290\n",
              "Tengah    1102018\n",
              "Timur      407780\n",
              "Name: provinsi, dtype: int64"
            ]
          },
          "metadata": {},
          "execution_count": 40
        }
      ]
    },
    {
      "cell_type": "markdown",
      "source": [
        "Interpretasi : mayoritas customer memiliki tempat tinggal pada wilayah Barat dibandingkan pada wilayah Tengah dan Timur"
      ],
      "metadata": {
        "id": "4eEFWyGND4-9"
      }
    },
    {
      "cell_type": "markdown",
      "metadata": {
        "id": "dfiUHiA_XWuf"
      },
      "source": [
        "####Device Type"
      ]
    },
    {
      "cell_type": "code",
      "execution_count": null,
      "metadata": {
        "colab": {
          "base_uri": "https://localhost:8080/",
          "height": 493
        },
        "id": "vo1iFqizXZSo",
        "outputId": "578f3fa7-cce2-40fe-bdb2-a3b3c8955ae0"
      },
      "outputs": [
        {
          "output_type": "display_data",
          "data": {
            "text/plain": [
              "<Figure size 640x480 with 1 Axes>"
            ],
            "image/png": "[encoded data removed]"
          },
          "metadata": {}
        }
      ],
      "source": [
        "# Jumlah tipe perangkat customer\n",
        "plt.title(\"Tipe Perangkat Customer\", fontsize=14, weight=\"bold\")\n",
        "df_bi[\"device_type\"].value_counts().plot.bar();"
      ]
    },
    {
      "cell_type": "code",
      "execution_count": null,
      "metadata": {
        "colab": {
          "base_uri": "https://localhost:8080/"
        },
        "id": "TpAZnyfwXiUR",
        "outputId": "cd0ebfac-c20f-4567-aea2-cd572636ab1b"
      },
      "outputs": [
        {
          "data": {
            "text/plain": [
              "Android    10693668\n",
              "iOS         3200008\n",
              "Name: device_type, dtype: int64"
            ]
          },
          "execution_count": 53,
          "metadata": {},
          "output_type": "execute_result"
        }
      ],
      "source": [
        "# Jumlah masing-masing tipe perangkat customer\n",
        "df_bi[\"device_type\"].value_counts()"
      ]
    },
    {
      "cell_type": "markdown",
      "source": [
        "Interpretasi : Mayoritas customer memiliki device dengan tipe Android dibandingkan iOS"
      ],
      "metadata": {
        "id": "qcQDQTikEVhm"
      }
    },
    {
      "cell_type": "markdown",
      "metadata": {
        "id": "5d8tKFAIZLag"
      },
      "source": [
        "####Traffic Source"
      ]
    },
    {
      "cell_type": "code",
      "execution_count": null,
      "metadata": {
        "colab": {
          "base_uri": "https://localhost:8080/",
          "height": 492
        },
        "id": "L7KcCDLLZR7i",
        "outputId": "ec08120f-e841-4f15-bb31-98889683dd0c"
      },
      "outputs": [
        {
          "output_type": "display_data",
          "data": {
            "text/plain": [
              "<Figure size 640x480 with 1 Axes>"
            ],
            "image/png": "[encoded data removed]"
          },
          "metadata": {}
        }
      ],
      "source": [
        "# Jumlah tipe traffic customer\n",
        "plt.title(\"Tipe Traffic Customer\", fontsize=14, weight=\"bold\")\n",
        "df_bi[\"traffic_source\"].value_counts().plot.bar();"
      ]
    },
    {
      "cell_type": "code",
      "execution_count": null,
      "metadata": {
        "colab": {
          "base_uri": "https://localhost:8080/"
        },
        "id": "DJMpZIbvZZep",
        "outputId": "1c67d3c7-fbab-4755-f85f-d4ac719590c3"
      },
      "outputs": [
        {
          "data": {
            "text/plain": [
              "MOBILE    12497964\n",
              "WEB        1395712\n",
              "Name: traffic_source, dtype: int64"
            ]
          },
          "execution_count": 55,
          "metadata": {},
          "output_type": "execute_result"
        }
      ],
      "source": [
        "# Jumlah masing-masing tipe traffic customer\n",
        "df_bi[\"traffic_source\"].value_counts()"
      ]
    },
    {
      "cell_type": "markdown",
      "source": [
        "Interpretasi : Mayoritas customer mengakses layanan e-commerce menggunakan aplikasi berbasis mobile dibandingkan melalui aplikasi berbasis web"
      ],
      "metadata": {
        "id": "5_lkOBnGEhLU"
      }
    },
    {
      "cell_type": "markdown",
      "metadata": {
        "id": "K1HoEbK4YF2V"
      },
      "source": [
        "####Payment Method"
      ]
    },
    {
      "cell_type": "code",
      "execution_count": null,
      "metadata": {
        "colab": {
          "base_uri": "https://localhost:8080/",
          "height": 543
        },
        "id": "Elfb2AvhYJd8",
        "outputId": "512ab3a3-07c6-4281-92ef-7bdf6a9d73f1"
      },
      "outputs": [
        {
          "output_type": "display_data",
          "data": {
            "text/plain": [
              "<Figure size 640x480 with 1 Axes>"
            ],
            "image/png": "[encoded data removed]"
          },
          "metadata": {}
        }
      ],
      "source": [
        "# Jummlah metode pembayaran\n",
        "plt.title(\"Tipe Metode Pembayaran Customer\", fontsize=14, weight=\"bold\")\n",
        "df_bi[\"payment_method\"].value_counts().plot.bar();"
      ]
    },
    {
      "cell_type": "code",
      "execution_count": null,
      "metadata": {
        "colab": {
          "base_uri": "https://localhost:8080/"
        },
        "id": "OAJBjbHNYP49",
        "outputId": "693615a7-37e1-4e81-c8d7-78fd6e4be173"
      },
      "outputs": [
        {
          "output_type": "execute_result",
          "data": {
            "text/plain": [
              "Dompet digital    2369370\n",
              "Credit Card       1694828\n",
              "Debit Card         783890\n",
              "Name: payment_method, dtype: int64"
            ]
          },
          "metadata": {},
          "execution_count": 51
        }
      ],
      "source": [
        "# Jummlah maisng-masing metode pembayaran\n",
        "df_bi[\"payment_method\"].value_counts()"
      ]
    },
    {
      "cell_type": "markdown",
      "source": [
        "Interpretasi : Mayoritas customer melakukan pembayaran menggunakan Dompet Digital dibandingkan menggunakan Credit Card dan Debit Card"
      ],
      "metadata": {
        "id": "Dmnd0m_UFE1T"
      }
    },
    {
      "cell_type": "markdown",
      "metadata": {
        "id": "hERL4xwGX78O"
      },
      "source": [
        "#### Promo"
      ]
    },
    {
      "cell_type": "code",
      "execution_count": null,
      "metadata": {
        "colab": {
          "base_uri": "https://localhost:8080/",
          "height": 666
        },
        "id": "dvuNda4_X9Fe",
        "outputId": "b1b748b3-2c23-4845-d944-7089c5a3ee9a"
      },
      "outputs": [
        {
          "output_type": "display_data",
          "data": {
            "text/plain": [
              "<Figure size 640x480 with 1 Axes>"
            ],
            "image/png": "[encoded data removed]"
          },
          "metadata": {}
        }
      ],
      "source": [
        "# Jumlah penggunaan promo\n",
        "plt.title(\"Penggunaan Promo\", fontsize=14, weight=\"bold\")\n",
        "df_bi[\"promo_code\"].value_counts().plot.bar();"
      ]
    },
    {
      "cell_type": "code",
      "execution_count": null,
      "metadata": {
        "colab": {
          "base_uri": "https://localhost:8080/"
        },
        "id": "lwhb32c5YBmJ",
        "outputId": "25a0c8f6-a282-4d05-9146-2a2d1ae1e6b5"
      },
      "outputs": [
        {
          "output_type": "execute_result",
          "data": {
            "text/plain": [
              "tidak menggunakan promo code    2969058\n",
              "menggunakan promo               1879030\n",
              "Name: promo_code, dtype: int64"
            ]
          },
          "metadata": {},
          "execution_count": 53
        }
      ],
      "source": [
        "# Jumlah penggunaan promo\n",
        "df_bi[\"promo_code\"].value_counts()"
      ]
    },
    {
      "cell_type": "markdown",
      "source": [
        "Interpretasi : Mayoritas customer melakukan transaksi pada e-commerce dengan tidak menambahkan code promo dibandingkan dengan menambahkan code promo untuk memperoleh potongan harga ketika melakukan transaksi"
      ],
      "metadata": {
        "id": "hNHdn5FTFRa-"
      }
    },
    {
      "cell_type": "markdown",
      "metadata": {
        "id": "KIeMw8_LZAPe"
      },
      "source": [
        "####Season Article"
      ]
    },
    {
      "cell_type": "code",
      "execution_count": null,
      "metadata": {
        "colab": {
          "base_uri": "https://localhost:8080/",
          "height": 498
        },
        "id": "hDYfwdAUZDoM",
        "outputId": "d76858d6-4d45-461c-d2fc-bee06d914db6"
      },
      "outputs": [
        {
          "data": {
            "image/png": "[encoded data removed]",
            "text/plain": [
              "<Figure size 640x480 with 1 Axes>"
            ]
          },
          "metadata": {},
          "output_type": "display_data"
        }
      ],
      "source": [
        "# Jumlah jenis season article yang dibeli customer\n",
        "plt.title(\"Season Article\", fontsize=14, weight=\"bold\")\n",
        "df_bi[\"season\"].value_counts().plot.bar();"
      ]
    },
    {
      "cell_type": "code",
      "execution_count": null,
      "metadata": {
        "colab": {
          "base_uri": "https://localhost:8080/"
        },
        "id": "HDeZxU0wY_7V",
        "outputId": "d61e9749-8d13-49e7-967a-b9c2a39cbdda"
      },
      "outputs": [
        {
          "data": {
            "text/plain": [
              "Summer    6729839\n",
              "Fall      3560021\n",
              "Winter    2668960\n",
              "Spring     934856\n",
              "Name: season, dtype: int64"
            ]
          },
          "execution_count": 63,
          "metadata": {},
          "output_type": "execute_result"
        }
      ],
      "source": [
        "# Jumlah masing-masing jenis season article yang dibeli customer\n",
        "df_bi[\"season\"].value_counts()"
      ]
    },
    {
      "cell_type": "markdown",
      "source": [
        "Interpretasi : Mayoritas customer melakukan transaksi pada product yang digunakan pada summer atau musim panas dengan jumlah yang signifikan dibandingkan pada product kedua yaitu product yang digunakan pada musim gugur"
      ],
      "metadata": {
        "id": "JSXkXbUsHYVu"
      }
    },
    {
      "cell_type": "markdown",
      "metadata": {
        "id": "Iy1HVNizZwFb"
      },
      "source": [
        "####Usage"
      ]
    },
    {
      "cell_type": "code",
      "execution_count": null,
      "metadata": {
        "colab": {
          "base_uri": "https://localhost:8080/",
          "height": 532
        },
        "id": "tshZwomRZuJZ",
        "outputId": "8510d0c3-6c6f-4e32-d1cf-9de8e1c80432"
      },
      "outputs": [
        {
          "output_type": "display_data",
          "data": {
            "text/plain": [
              "<Figure size 640x480 with 1 Axes>"
            ],
            "image/png": "[encoded data removed]"
          },
          "metadata": {}
        }
      ],
      "source": [
        "# Jumlah usage article yang dibeli customer\n",
        "plt.title(\"Usage Article\", fontsize=14, weight=\"bold\")\n",
        "df_bi[\"usage\"].value_counts().plot.bar();"
      ]
    },
    {
      "cell_type": "code",
      "execution_count": null,
      "metadata": {
        "colab": {
          "base_uri": "https://localhost:8080/"
        },
        "id": "mNaaCRyrZ1iZ",
        "outputId": "88bf1067-1a10-40d1-95b6-fa3c6d611c63"
      },
      "outputs": [
        {
          "data": {
            "text/plain": [
              "Casual          10866347\n",
              "Sports           1257712\n",
              "Ethnic           1006018\n",
              "Formal            724423\n",
              "Smart Casual       20569\n",
              "Party               9803\n",
              "Travel              8511\n",
              "Home                 293\n",
              "Name: usage, dtype: int64"
            ]
          },
          "execution_count": 65,
          "metadata": {},
          "output_type": "execute_result"
        }
      ],
      "source": [
        "# Jumlah masing-masing usage article yang dibeli customer\n",
        "df_bi[\"usage\"].value_counts()"
      ]
    },
    {
      "cell_type": "markdown",
      "source": [
        "Interpretasi : Mayoritas customer membeli product casual"
      ],
      "metadata": {
        "id": "1dfMX18aHwCP"
      }
    },
    {
      "cell_type": "markdown",
      "metadata": {
        "id": "eGGBfHhya7pw"
      },
      "source": [
        "####Gender Artikel"
      ]
    },
    {
      "cell_type": "code",
      "execution_count": null,
      "metadata": {
        "colab": {
          "base_uri": "https://localhost:8080/",
          "height": 491
        },
        "id": "9fVtIvAua_Xa",
        "outputId": "1126c753-19d4-4fc3-f215-1ca29a2478ed"
      },
      "outputs": [
        {
          "data": {
            "image/png": "[encoded data removed]",
            "text/plain": [
              "<Figure size 640x480 with 1 Axes>"
            ]
          },
          "metadata": {},
          "output_type": "display_data"
        }
      ],
      "source": [
        "# Jumlah jenis gender pada article yang dibeli customer\n",
        "plt.title(\"Gender Article\", fontsize=14, weight=\"bold\")\n",
        "df_bi[\"gender_y\"].value_counts().plot.bar();"
      ]
    },
    {
      "cell_type": "code",
      "execution_count": null,
      "metadata": {
        "colab": {
          "base_uri": "https://localhost:8080/"
        },
        "id": "MsUA-vp_bDs-",
        "outputId": "384e410c-5a6d-4da1-f0a0-b898006af6c5"
      },
      "outputs": [
        {
          "data": {
            "text/plain": [
              "Men       6926474\n",
              "Women     5836089\n",
              "Unisex     670018\n",
              "Boys       258230\n",
              "Girls      202865\n",
              "Name: gender_y, dtype: int64"
            ]
          },
          "execution_count": 68,
          "metadata": {},
          "output_type": "execute_result"
        }
      ],
      "source": [
        "# Jumlah jenis gender pada article yang dibeli customer\n",
        "df_bi[\"gender_y\"].value_counts()"
      ]
    },
    {
      "cell_type": "markdown",
      "source": [
        "Interpretasi : Mayoritas customer membeli produk untuk laki-laki dewasa dan perempuan dewasa"
      ],
      "metadata": {
        "id": "DWVNLLugH3zv"
      }
    },
    {
      "cell_type": "markdown",
      "metadata": {
        "id": "0K032oiXab8s"
      },
      "source": [
        "####Search Keyword"
      ]
    },
    {
      "cell_type": "code",
      "execution_count": null,
      "metadata": {
        "colab": {
          "base_uri": "https://localhost:8080/",
          "height": 605
        },
        "id": "5o9EvAslafm-",
        "outputId": "c48f40ba-2ea5-4dc5-98c7-a2299efafa8e"
      },
      "outputs": [
        {
          "output_type": "display_data",
          "data": {
            "text/plain": [
              "<Figure size 640x480 with 1 Axes>"
            ],
            "image/png": "[encoded data removed]"
          },
          "metadata": {}
        }
      ],
      "source": [
        "# Jumlah kegiatan search customer\n",
        "plt.title(\"Search Keyword\", fontsize=14, weight=\"bold\")\n",
        "df_bi[\"search_keywords\"].value_counts().plot.bar();"
      ]
    },
    {
      "cell_type": "code",
      "source": [
        "from wordcloud import WordCloud\n",
        "import matplotlib.pyplot as plt\n",
        "\n",
        "# Menentukan batas minimum frekuensi yang lebih tinggi dari 41275\n",
        "minimum_freq = 56352\n",
        "\n",
        "# Filter word_freq untuk kata-kata yang memiliki frekuensi lebih besar dari minimum_freq\n",
        "filtered_word_freq = {key: val for key, val in word_freq.items() if val >= minimum_freq}\n",
        "\n",
        "# Membuat WordCloud dengan kata-kata yang difilter\n",
        "wordcloud = WordCloud(width=800, height=400, background_color='white', colormap='magma').generate_from_frequencies(filtered_word_freq)\n",
        "\n",
        "# Plotting WordCloud\n",
        "plt.figure(figsize=(10, 8))\n",
        "plt.imshow(wordcloud, interpolation='bilinear')\n",
        "plt.axis('off')\n",
        "plt.show()\n"
      ],
      "metadata": {
        "colab": {
          "base_uri": "https://localhost:8080/",
          "height": 424
        },
        "id": "O9ZZGKzYQB5p",
        "outputId": "f82c4e76-3ec4-4bf7-da53-97204907bc21"
      },
      "execution_count": null,
      "outputs": [
        {
          "output_type": "display_data",
          "data": {
            "text/plain": [
              "<Figure size 1000x800 with 1 Axes>"
            ],
            "image/png": "[encoded data removed]"
          },
          "metadata": {}
        }
      ]
    },
    {
      "cell_type": "code",
      "source": [
        "# Jumlah kegiatan search custome\n",
        "df[\"search_keywords\"].value_counts()"
      ],
      "metadata": {
        "colab": {
          "base_uri": "https://localhost:8080/"
        },
        "id": "vgqSJcWPPEqD",
        "outputId": "525db763-84a9-40e3-9c69-14cb16dc3eda"
      },
      "execution_count": null,
      "outputs": [
        {
          "output_type": "execute_result",
          "data": {
            "text/plain": [
              "Dress Kondangan    372983\n",
              "Tas Wanita         187645\n",
              "Bekas              162738\n",
              "T-Shirt            145688\n",
              "Kaos               121793\n",
              "Baju               121163\n",
              "Dress Pesta        112053\n",
              "Sepatu Nike         74514\n",
              "Tas Kerja           56352\n",
              "Thrift              41275\n",
              "Second Hand         41082\n",
              "Second              40961\n",
              "Barang Bekas        40538\n",
              "Celana Panjang      40528\n",
              "Sepatu              40423\n",
              "Sepatu Adidas       37338\n",
              "Sendal              18258\n",
              "Celana              17063\n",
              "T-shirt             10302\n",
              "Jam                 10227\n",
              "Topi                 7079\n",
              "Baju Tidur           3228\n",
              "Daster               1747\n",
              "Name: search_keywords, dtype: int64"
            ]
          },
          "metadata": {},
          "execution_count": 57
        }
      ]
    },
    {
      "cell_type": "markdown",
      "metadata": {
        "id": "tNctROfkGmDK"
      },
      "source": [
        "###Bivariate Analysis"
      ]
    },
    {
      "cell_type": "markdown",
      "metadata": {
        "id": "gUlYq7Wjbsls"
      },
      "source": [
        "####Churn Berdasarkan Gender"
      ]
    },
    {
      "cell_type": "code",
      "execution_count": null,
      "metadata": {
        "colab": {
          "base_uri": "https://localhost:8080/",
          "height": 423
        },
        "id": "3wcEn4yCGU4X",
        "outputId": "07a00a99-34ad-4b42-8a95-13a9b2c2defb"
      },
      "outputs": [
        {
          "output_type": "display_data",
          "data": {
            "text/plain": [
              "<Figure size 1000x600 with 1 Axes>"
            ],
            "image/png": "[encoded data removed]"
          },
          "metadata": {}
        }
      ],
      "source": [
        "plt.figure(figsize=(10, 6))\n",
        "sns.countplot(x='gender_x', hue='churn', data=df_bi, palette=['#C80F2E', 'grey'])\n",
        "plt.title('Churn Berdasarkan Gender Customer')\n",
        "plt.ylabel('jumlah')\n",
        "plt.xticks(rotation=0)\n",
        "plt.legend(['tidak churn', 'churn'])\n",
        "plt.show()"
      ]
    },
    {
      "cell_type": "markdown",
      "source": [
        "Interpretasi: dari grafik atas, diketahui bahwa mayoritas customer churn. Mayoritas customer yang terindikasi churn adalah perempuan"
      ],
      "metadata": {
        "id": "1ouiJZ9XN2LA"
      }
    },
    {
      "cell_type": "code",
      "source": [
        "# Menghitung jumlah data churn dan non-churn berdasarkan gender\n",
        "churn_by_gender = df_bi.groupby(['gender_x', 'churn']).size().reset_index(name='jumlah')\n",
        "\n",
        "# Menampilkan hasil\n",
        "print(churn_by_gender)\n"
      ],
      "metadata": {
        "colab": {
          "base_uri": "https://localhost:8080/"
        },
        "id": "imTtJA7Laujg",
        "outputId": "90cbe98a-a4f8-4623-88e5-8f7c6d72c683"
      },
      "execution_count": null,
      "outputs": [
        {
          "output_type": "stream",
          "name": "stdout",
          "text": [
            "  gender_x  churn   jumlah\n",
            "0        F      0   771813\n",
            "1        F      1  2350018\n",
            "2        M      0   417424\n",
            "3        M      1  1308833\n"
          ]
        }
      ]
    },
    {
      "cell_type": "markdown",
      "source": [
        "####Churn Berdasarkan Tempat Tinggal"
      ],
      "metadata": {
        "id": "_CP_aTs9R2uA"
      }
    },
    {
      "cell_type": "code",
      "source": [
        "plt.figure(figsize=(10, 6))\n",
        "sns.countplot(x='provinsi', hue='churn', data=df_bi, palette=['#C80F2E', 'grey'])\n",
        "plt.title('Churn Berdasarkan Tempat Tinggal Customer')\n",
        "plt.ylabel('jumlah')\n",
        "plt.xticks(rotation=0)\n",
        "plt.legend(['tidak churn', 'churn'])\n",
        "plt.show()"
      ],
      "metadata": {
        "colab": {
          "base_uri": "https://localhost:8080/",
          "height": 423
        },
        "id": "i6ZV4XsOOgh8",
        "outputId": "711dc3d1-3463-4de0-feb1-9a16e5270d10"
      },
      "execution_count": null,
      "outputs": [
        {
          "output_type": "display_data",
          "data": {
            "text/plain": [
              "<Figure size 1000x600 with 1 Axes>"
            ],
            "image/png": "[encoded data removed]"
          },
          "metadata": {}
        }
      ]
    },
    {
      "cell_type": "markdown",
      "source": [
        "Interpretasi : dari grafik di atas, dapat disimpulkan bahwa mayoritas customer berasal dari Barat memiliki tingkat churn yang tinggi. Diketahui juga mayoritas customer memiliki tempat tinggal di wilayah Barat"
      ],
      "metadata": {
        "id": "rgOoXQLaSAHJ"
      }
    },
    {
      "cell_type": "code",
      "source": [
        "# Menghitung jumlah data churn dan non-churn berdasarkan provinsi\n",
        "churn_by_province = df_bi.groupby(['provinsi', 'churn']).size().reset_index(name='jumlah')\n",
        "\n",
        "# Menampilkan hasil\n",
        "print(churn_by_province)\n"
      ],
      "metadata": {
        "colab": {
          "base_uri": "https://localhost:8080/"
        },
        "id": "uJ9fdXLab0Rc",
        "outputId": "1b4e25f4-d3c6-46ee-c8f3-59333503bce1"
      },
      "execution_count": null,
      "outputs": [
        {
          "output_type": "stream",
          "name": "stdout",
          "text": [
            "  provinsi  churn   jumlah\n",
            "0    Barat      0   820866\n",
            "1    Barat      1  2517424\n",
            "2   Tengah      0   271626\n",
            "3   Tengah      1   830392\n",
            "4    Timur      0    96745\n",
            "5    Timur      1   311035\n"
          ]
        }
      ]
    },
    {
      "cell_type": "markdown",
      "source": [
        "####Churn Berdasarkan Metode Pembayaran"
      ],
      "metadata": {
        "id": "ldSm-VSnSTic"
      }
    },
    {
      "cell_type": "code",
      "source": [
        "plt.figure(figsize=(10, 6))\n",
        "sns.countplot(x='payment_method', hue='churn', data=df_bi, palette=['#C80F2E', 'grey'])\n",
        "plt.title('Churn Berdasarkan Metode Pembayaran')\n",
        "plt.ylabel('jumlah')\n",
        "plt.xticks(rotation=0)\n",
        "plt.legend(['tidak churn', 'churn'])\n",
        "plt.show()"
      ],
      "metadata": {
        "colab": {
          "base_uri": "https://localhost:8080/",
          "height": 419
        },
        "id": "Ohh5gwdmSTLU",
        "outputId": "d6a87871-58fc-4835-d723-5f4316f2d1d9"
      },
      "execution_count": null,
      "outputs": [
        {
          "output_type": "display_data",
          "data": {
            "text/plain": [
              "<Figure size 1000x600 with 1 Axes>"
            ],
            "image/png": "[encoded data removed]"
          },
          "metadata": {}
        }
      ]
    },
    {
      "cell_type": "markdown",
      "source": [
        "Interpretasi : Mayoritas customer yang menggunakan dompet digital sebagai metode pembayaran lebih banyak yang mengalami churn."
      ],
      "metadata": {
        "id": "qWFCC4uvSoNY"
      }
    },
    {
      "cell_type": "code",
      "source": [
        "# Menghitung jumlah data churn dan non-churn berdasarkan metode pembayaran\n",
        "churn_by_payment_method = df_bi.groupby(['payment_method', 'churn']).size().reset_index(name='jumlah')\n",
        "\n",
        "# Menampilkan hasil\n",
        "print(churn_by_payment_method)\n"
      ],
      "metadata": {
        "colab": {
          "base_uri": "https://localhost:8080/"
        },
        "id": "_8z3oC5Lb8Z2",
        "outputId": "df4d9c08-9781-48cc-80c5-660ca8e022ea"
      },
      "execution_count": null,
      "outputs": [
        {
          "output_type": "stream",
          "name": "stdout",
          "text": [
            "   payment_method  churn   jumlah\n",
            "0     Credit Card      0   413171\n",
            "1     Credit Card      1  1281657\n",
            "2      Debit Card      0   194179\n",
            "3      Debit Card      1   589711\n",
            "4  Dompet digital      0   581887\n",
            "5  Dompet digital      1  1787483\n"
          ]
        }
      ]
    },
    {
      "cell_type": "markdown",
      "source": [
        "#### Churn Berdasarkan Penggunaan Promo"
      ],
      "metadata": {
        "id": "RK_wkn_zS37j"
      }
    },
    {
      "cell_type": "code",
      "source": [
        "plt.figure(figsize=(10, 6))\n",
        "sns.countplot(x='promo_code', hue='churn', data=df_bi, palette=['#C80F2E', 'grey'])\n",
        "plt.title('Churn Berdasarkan Penggunaan Promo')\n",
        "plt.ylabel('jumlah')\n",
        "plt.xticks(rotation=0)\n",
        "plt.legend(['tidak churn', 'churn'])\n",
        "plt.show()"
      ],
      "metadata": {
        "colab": {
          "base_uri": "https://localhost:8080/",
          "height": 423
        },
        "id": "n7KDBNuHS3lk",
        "outputId": "10a1360d-07a8-4ca5-9958-c8f59a02b069"
      },
      "execution_count": null,
      "outputs": [
        {
          "output_type": "display_data",
          "data": {
            "text/plain": [
              "<Figure size 1000x600 with 1 Axes>"
            ],
            "image/png": "[encoded data removed]"
          },
          "metadata": {}
        }
      ]
    },
    {
      "cell_type": "markdown",
      "source": [
        "Interpretasi : Mayoritas customer yang menggunakan tidak menggunakan promo untuk bertransaksi lebih banyak yang mengalami churn."
      ],
      "metadata": {
        "id": "HeEdEiV_TEkO"
      }
    },
    {
      "cell_type": "code",
      "source": [
        "# Menghitung jumlah data churn dan non-churn berdasarkan metode pembayaran\n",
        "churn_by_promo = df_bi.groupby(['promo_code', 'churn']).size().reset_index(name='jumlah')\n",
        "\n",
        "# Menampilkan hasil\n",
        "print(churn_by_promo)"
      ],
      "metadata": {
        "colab": {
          "base_uri": "https://localhost:8080/"
        },
        "id": "ZiYI8knInB2d",
        "outputId": "e92f7c57-25ba-48b6-9300-80ad1912d447"
      },
      "execution_count": null,
      "outputs": [
        {
          "output_type": "stream",
          "name": "stdout",
          "text": [
            "                     promo_code  churn   jumlah\n",
            "0             menggunakan promo      0   428474\n",
            "1             menggunakan promo      1  1450556\n",
            "2  tidak menggunakan promo code      0   760763\n",
            "3  tidak menggunakan promo code      1  2208295\n"
          ]
        }
      ]
    },
    {
      "cell_type": "markdown",
      "source": [
        "####Churn Berdasarkan Search Keyword"
      ],
      "metadata": {
        "id": "3Oq7tw9nTPQ7"
      }
    },
    {
      "cell_type": "code",
      "source": [
        "plt.figure(figsize=(10, 6))\n",
        "sns.countplot(x='search_keywords', hue='churn', data=df_bi, palette=['#C80F2E', 'grey'])\n",
        "plt.title('Churn Berdasarkan Search Keyword')\n",
        "plt.ylabel('jumlah')\n",
        "plt.xticks(rotation=0)\n",
        "plt.legend(['tidak churn', 'churn'])\n",
        "plt.show()"
      ],
      "metadata": {
        "colab": {
          "base_uri": "https://localhost:8080/",
          "height": 423
        },
        "id": "JrwFPJBWTG0e",
        "outputId": "5db87e0e-fe57-4883-a17e-c39d1bbe6b27"
      },
      "execution_count": null,
      "outputs": [
        {
          "output_type": "display_data",
          "data": {
            "text/plain": [
              "<Figure size 1000x600 with 1 Axes>"
            ],
            "image/png": "[encoded data removed]"
          },
          "metadata": {}
        }
      ]
    },
    {
      "cell_type": "markdown",
      "source": [
        "Interpretasi : Mayoritas customer yang tidak melakukan pencarian produk lebih banyak yang mengalami churn secara signifikan dibandikan tidak churn."
      ],
      "metadata": {
        "id": "FsosHmZ0TdrP"
      }
    },
    {
      "cell_type": "code",
      "source": [
        "# Menghitung jumlah data churn dan non-churn berdasarkan keyword pencarian\n",
        "churn_by_search_keywords = df_bi.groupby(['search_keywords', 'churn']).size().reset_index(name='jumlah')\n",
        "\n",
        "# Menampilkan hasil\n",
        "print(churn_by_search_keywords)\n"
      ],
      "metadata": {
        "colab": {
          "base_uri": "https://localhost:8080/"
        },
        "id": "0VRis1mFcDkV",
        "outputId": "098e3875-7f80-44d1-fceb-e019b41550aa"
      },
      "execution_count": null,
      "outputs": [
        {
          "output_type": "stream",
          "name": "stdout",
          "text": [
            "          search_keywords  churn   jumlah\n",
            "0        melakukan search      0   116096\n",
            "1        melakukan search      1   324821\n",
            "2  tidak melakukan search      0  1073141\n",
            "3  tidak melakukan search      1  3334030\n"
          ]
        }
      ]
    },
    {
      "cell_type": "markdown",
      "source": [
        "####Churn Berdasarkan Status Pembayaran"
      ],
      "metadata": {
        "id": "AcPckeEWT2Ub"
      }
    },
    {
      "cell_type": "code",
      "source": [
        "plt.figure(figsize=(10, 6))\n",
        "sns.countplot(x='payment_status', hue='churn', data=df_bi, palette=['#C80F2E', 'grey'])\n",
        "plt.title('Churn Berdasarkan Status Pembayaran')\n",
        "plt.ylabel('jumlah')\n",
        "plt.xticks(rotation=0)\n",
        "plt.legend(['tidak churn', 'churn'])\n",
        "plt.show()"
      ],
      "metadata": {
        "colab": {
          "base_uri": "https://localhost:8080/",
          "height": 423
        },
        "id": "-vEuXChfT5Ki",
        "outputId": "7d409922-8a5a-43cf-9a29-243936969ac4"
      },
      "execution_count": null,
      "outputs": [
        {
          "output_type": "display_data",
          "data": {
            "text/plain": [
              "<Figure size 1000x600 with 1 Axes>"
            ],
            "image/png": "[encoded data removed]"
          },
          "metadata": {}
        }
      ]
    },
    {
      "cell_type": "markdown",
      "source": [
        "Interpretasi : Mayoritas customer mengalami pembayaran yang berhasil dibandingkan tidak berhasil secara signifikan. Customer yang mengalami pembayaran berhasil memiliki jumlah churn paling banyak."
      ],
      "metadata": {
        "id": "_CwckE5_UHEa"
      }
    },
    {
      "cell_type": "code",
      "source": [
        "# Menghitung jumlah data churn dan non-churn berdasarkan status pembayaran\n",
        "churn_by_payment_status = df_bi.groupby(['payment_status', 'churn']).size().reset_index(name='jumlah')\n",
        "\n",
        "# Menampilkan hasil\n",
        "print(churn_by_payment_status)\n"
      ],
      "metadata": {
        "id": "M1QJ_Tg1cSv3",
        "outputId": "97d9eeab-2736-4598-c505-b48d6d3b2541",
        "colab": {
          "base_uri": "https://localhost:8080/"
        }
      },
      "execution_count": null,
      "outputs": [
        {
          "output_type": "stream",
          "name": "stdout",
          "text": [
            "  payment_status  churn   jumlah\n",
            "0         Failed      0    48789\n",
            "1         Failed      1   159923\n",
            "2        Success      0  1140448\n",
            "3        Success      1  3498928\n"
          ]
        }
      ]
    },
    {
      "cell_type": "markdown",
      "source": [
        "# **Modelling**"
      ],
      "metadata": {
        "id": "OcHpTqie8iYB"
      }
    },
    {
      "cell_type": "markdown",
      "source": [
        "Untuk meminimalisir tingkat error, maka bagian modeling dan evaluation dikerjakan pada notebook ini\n",
        "\n",
        "https://colab.research.google.com/drive/1ZwA95vF9BKZZrvJi6qIuDqKFIVzLH5Dw?usp=sharing"
      ],
      "metadata": {
        "id": "556VdWhH8tTO"
      }
    }
  ],
  "metadata": {
    "colab": {
      "machine_shape": "hm",
      "provenance": [],
      "toc_visible": true
    },
    "kernelspec": {
      "display_name": "Python 3",
      "name": "python3"
    },
    "language_info": {
      "name": "python"
    }
  },
  "nbformat": 4,
  "nbformat_minor": 0
}
